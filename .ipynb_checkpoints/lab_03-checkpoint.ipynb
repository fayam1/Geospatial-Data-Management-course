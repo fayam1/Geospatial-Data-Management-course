{
 "cells": [
  {
   "cell_type": "markdown",
   "id": "3806cb95",
   "metadata": {},
   "source": [
    "# Lab 3\n",
    "\n",
    "\n",
    "[![Open In Colab](https://colab.research.google.com/assets/colab-badge.svg)](https://colab.research.google.com/github/giswqs/geog-414/blob/master/book/labs/lab_03.ipynb)\n",
    "\n",
    "## Submission requirements\n",
    "\n",
    "1. Upload a screenshot of your map for each question.\n",
    "2. Provide a link to your notebook on Colab. See instructions [here](https://geog-414.gishub.org/book/labs/instructions.html).\n"
   ]
  },
  {
   "cell_type": "markdown",
   "id": "26163305",
   "metadata": {
    "tags": []
   },
   "source": [
    "## Question 1\n",
    "\n",
    "Find a DEM dataset in the [Earth Engine Data Catalog](https://developers.google.com/earth-engine/datasets/), clip the DEM to your home\n",
    "state, and display the DEM with a proper color palette on the map.\n",
    "\n",
    "#### <span style='color:Blue'>In my solution I selected COPERNICUS/DEM/GLO30 for Damascus countryside region  .  </span>\n"
   ]
  },
  {
   "cell_type": "code",
   "execution_count": 58,
   "id": "aa1adfd7",
   "metadata": {},
   "outputs": [
    {
     "data": {
      "text/html": [
       "\n",
       "            <style>\n",
       "                .geemap-dark {\n",
       "                    --jp-widgets-color: white;\n",
       "                    --jp-widgets-label-color: white;\n",
       "                    --jp-ui-font-color1: white;\n",
       "                    --jp-layout-color2: #454545;\n",
       "                    background-color: #383838;\n",
       "                }\n",
       "\n",
       "                .geemap-dark .jupyter-button {\n",
       "                    --jp-layout-color3: #383838;\n",
       "                }\n",
       "\n",
       "                .geemap-colab {\n",
       "                    background-color: var(--colab-primary-surface-color, white);\n",
       "                }\n",
       "\n",
       "                .geemap-colab .jupyter-button {\n",
       "                    --jp-layout-color3: var(--colab-primary-surface-color, white);\n",
       "                }\n",
       "            </style>\n",
       "            "
      ],
      "text/plain": [
       "<IPython.core.display.HTML object>"
      ]
     },
     "metadata": {},
     "output_type": "display_data"
    },
    {
     "data": {
      "application/vnd.jupyter.widget-view+json": {
       "model_id": "af3ed19553ed44739d9da34f8bffc983",
       "version_major": 2,
       "version_minor": 0
      },
      "text/plain": [
       "Map(center=[35, 38], controls=(WidgetControl(options=['position', 'transparent_bg'], widget=SearchDataGUI(chil…"
      ]
     },
     "execution_count": 58,
     "metadata": {},
     "output_type": "execute_result"
    }
   ],
   "source": [
    "# Add your code here\n",
    "import ee\n",
    "import geemap\n",
    "geemap.ee_initialize()\n",
    "map=geemap.Map(center=[35,38],zoom=7,height='600px')\n",
    "image=ee.ImageCollection('COPERNICUS/DEM/GLO30')\n",
    "elevation=image.select('DEM')\n",
    "vis={'min': 0.0,\n",
    "      'max': 1000.0,\n",
    "      'palette': ['0000ff','00ffff','ffff00','ff0000','ffffff'],\n",
    "      }\n",
    "#define Region of interest Damascus Countryside\n",
    "roi=ee.Geometry.Polygon([[35.936279, 32.667125], \n",
    "                        [35.936279, 34.343436], \n",
    "                        [39.133301, 34.343436],\n",
    "                        [39.133301, 32.667125], \n",
    "                        [35.936279, 32.667125]])\n",
    "#Filter the elevation for Damascus Countryside area \n",
    "damasdem=elevation.mosaic().clip(roi)\n",
    "map.addLayer(damasdem,vis,'DEM')\n",
    "# Add text to the map\n",
    "text = \"Made by Faissal Bozi\"\n",
    "map.add_text(text, fontsize=20, position='bottomright')\n",
    "  \n",
    "map"
   ]
  },
  {
   "cell_type": "markdown",
   "id": "b0a86a46",
   "metadata": {},
   "source": [
    "## Question 2\n",
    "\n",
    "Use [Sentinel-2](https://developers.google.com/earth-engine/datasets/catalog/sentinel-2) or [Landsat-9 data](https://developers.google.com/earth-engine/datasets/catalog/landsat-9), create a cloud-free imagery of the year 2021 for your home state. Display the imagery on the map with a proper band combination. For example, the sample map below shows a cloud-free false-color composite of Sentinel-2 imagery of the year 2021 for the state of Colorado. \n",
    "\n",
    "#### <span style='color:Blue'>In my solution I selected COPERNICUS/S2_HARMONIZED for Damascus countryside region  .  </span>"
   ]
  },
  {
   "cell_type": "code",
   "execution_count": 60,
   "id": "9ac1ed6a",
   "metadata": {},
   "outputs": [
    {
     "data": {
      "text/html": [
       "\n",
       "            <style>\n",
       "                .geemap-dark {\n",
       "                    --jp-widgets-color: white;\n",
       "                    --jp-widgets-label-color: white;\n",
       "                    --jp-ui-font-color1: white;\n",
       "                    --jp-layout-color2: #454545;\n",
       "                    background-color: #383838;\n",
       "                }\n",
       "\n",
       "                .geemap-dark .jupyter-button {\n",
       "                    --jp-layout-color3: #383838;\n",
       "                }\n",
       "\n",
       "                .geemap-colab {\n",
       "                    background-color: var(--colab-primary-surface-color, white);\n",
       "                }\n",
       "\n",
       "                .geemap-colab .jupyter-button {\n",
       "                    --jp-layout-color3: var(--colab-primary-surface-color, white);\n",
       "                }\n",
       "            </style>\n",
       "            "
      ],
      "text/plain": [
       "<IPython.core.display.HTML object>"
      ]
     },
     "metadata": {},
     "output_type": "display_data"
    },
    {
     "data": {
      "application/vnd.jupyter.widget-view+json": {
       "model_id": "de4101993cb2489ab068beded9336b63",
       "version_major": 2,
       "version_minor": 0
      },
      "text/plain": [
       "Map(center=[35, 38], controls=(WidgetControl(options=['position', 'transparent_bg'], widget=SearchDataGUI(chil…"
      ]
     },
     "execution_count": 60,
     "metadata": {},
     "output_type": "execute_result"
    }
   ],
   "source": [
    "# Add your code here.\n",
    "map=geemap.Map(center=[35,38],zoom=7,high='600px')\n",
    "geo=ee.Geometry.Polygon([[35.936279, 32.667125], \n",
    "                        [35.936279, 34.343436], \n",
    "                        [39.133301, 34.343436],\n",
    "                        [39.133301, 32.667125], \n",
    "                        [35.936279, 32.667125]])\n",
    "collection=( ee.ImageCollection('COPERNICUS/S2_HARMONIZED')\n",
    "            .filterDate('2021-01-01','2022-01-01')\n",
    "            .filter(ee.Filter.lt('CLOUDY_PIXEL_PERCENTAGE',10))\n",
    "            .filterBounds(geo)\n",
    "            )\n",
    "image=collection.median().clip(geo)\n",
    "vis={'min':0.0,\n",
    "     'max':3000,\n",
    "     'bands':['B8','B3','B2'],\n",
    "    }\n",
    "map.addLayer(image,vis,'Sentenal-2')\n",
    "text = \"Made by Faissal Bozi\"\n",
    "map.add_text(text, fontsize=20, position='bottomright')\n",
    "\n",
    "map"
   ]
  },
  {
   "cell_type": "code",
   "execution_count": null,
   "id": "951a9010-8ad9-4816-abb2-8ab2f98b2b66",
   "metadata": {},
   "outputs": [],
   "source": []
  }
 ],
 "metadata": {
  "kernelspec": {
   "display_name": "Python 3 (ipykernel)",
   "language": "python",
   "name": "python3"
  },
  "language_info": {
   "codemirror_mode": {
    "name": "ipython",
    "version": 3
   },
   "file_extension": ".py",
   "mimetype": "text/x-python",
   "name": "python",
   "nbconvert_exporter": "python",
   "pygments_lexer": "ipython3",
   "version": "3.10.13"
  }
 },
 "nbformat": 4,
 "nbformat_minor": 5
}
