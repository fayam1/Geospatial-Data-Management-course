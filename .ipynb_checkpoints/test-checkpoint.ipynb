{
 "cells": [
  {
   "cell_type": "code",
   "execution_count": 10,
   "metadata": {},
   "outputs": [
    {
     "data": {
      "text/html": [
       "\n",
       "            <style>\n",
       "                .geemap-dark {\n",
       "                    --jp-widgets-color: white;\n",
       "                    --jp-widgets-label-color: white;\n",
       "                    --jp-ui-font-color1: white;\n",
       "                    --jp-layout-color2: #454545;\n",
       "                    background-color: #383838;\n",
       "                }\n",
       "\n",
       "                .geemap-dark .jupyter-button {\n",
       "                    --jp-layout-color3: #383838;\n",
       "                }\n",
       "\n",
       "                .geemap-colab {\n",
       "                    background-color: var(--colab-primary-surface-color, white);\n",
       "                }\n",
       "\n",
       "                .geemap-colab .jupyter-button {\n",
       "                    --jp-layout-color3: var(--colab-primary-surface-color, white);\n",
       "                }\n",
       "            </style>\n",
       "            "
      ],
      "text/plain": [
       "<IPython.core.display.HTML object>"
      ]
     },
     "metadata": {},
     "output_type": "display_data"
    },
    {
     "name": "stdout",
     "output_type": "stream",
     "text": [
      "Requirement already satisfied: pygis in c:\\users\\musao\\.conda\\envs\\gee\\lib\\site-packages (0.6.2)Note: you may need to restart the kernel to use updated packages.\n",
      "\n",
      "Requirement already satisfied: bokeh in c:\\users\\musao\\.conda\\envs\\gee\\lib\\site-packages (from pygis) (3.4.1)\n",
      "Requirement already satisfied: ffmpeg-python in c:\\users\\musao\\.conda\\envs\\gee\\lib\\site-packages (from pygis) (0.2.0)\n",
      "Requirement already satisfied: gdown in c:\\users\\musao\\appdata\\roaming\\python\\python310\\site-packages (from pygis) (4.7.1)\n",
      "Requirement already satisfied: geeadd in c:\\users\\musao\\.conda\\envs\\gee\\lib\\site-packages (from pygis) (0.5.6)\n",
      "Requirement already satisfied: geedim>=1.6.1 in c:\\users\\musao\\.conda\\envs\\gee\\lib\\site-packages (from pygis) (1.7.2)\n",
      "Requirement already satisfied: geemap>=0.32.0 in c:\\users\\musao\\.conda\\envs\\gee\\lib\\site-packages (from pygis) (0.32.1)\n",
      "Requirement already satisfied: geojson in c:\\users\\musao\\appdata\\roaming\\python\\python310\\site-packages (from pygis) (3.1.0)\n",
      "Requirement already satisfied: geopandas in c:\\users\\musao\\appdata\\roaming\\python\\python310\\site-packages (from pygis) (0.13.0)\n",
      "Requirement already satisfied: ipynb-py-convert in c:\\users\\musao\\.conda\\envs\\gee\\lib\\site-packages (from pygis) (0.4.6)\n",
      "Requirement already satisfied: kaleido in c:\\users\\musao\\.conda\\envs\\gee\\lib\\site-packages (from pygis) (0.2.1)\n",
      "Requirement already satisfied: leafmap>=0.31.5 in c:\\users\\musao\\.conda\\envs\\gee\\lib\\site-packages (from pygis) (0.31.9)\n",
      "Requirement already satisfied: localtileserver>=0.10.0 in c:\\users\\musao\\.conda\\envs\\gee\\lib\\site-packages (from pygis) (0.10.2)\n",
      "Requirement already satisfied: mapclassify>=2.4.0 in c:\\users\\musao\\.conda\\envs\\gee\\lib\\site-packages (from pygis) (2.6.1)\n",
      "Requirement already satisfied: mss in c:\\users\\musao\\.conda\\envs\\gee\\lib\\site-packages (from pygis) (9.0.1)\n",
      "Requirement already satisfied: netcdf4 in c:\\users\\musao\\.conda\\envs\\gee\\lib\\site-packages (from pygis) (1.6.5)\n",
      "Requirement already satisfied: osmnx in c:\\users\\musao\\appdata\\roaming\\python\\python310\\site-packages (from pygis) (1.3.0)\n",
      "Requirement already satisfied: owslib in c:\\users\\musao\\.conda\\envs\\gee\\lib\\site-packages (from pygis) (0.30.0)\n",
      "Requirement already satisfied: palettable in c:\\users\\musao\\.conda\\envs\\gee\\lib\\site-packages (from pygis) (3.3.3)\n",
      "Requirement already satisfied: plotly in c:\\users\\musao\\.conda\\envs\\gee\\lib\\site-packages (from pygis) (5.18.0)\n",
      "Requirement already satisfied: pycrs in c:\\users\\musao\\.conda\\envs\\gee\\lib\\site-packages (from pygis) (1.0.2)\n",
      "Requirement already satisfied: pydeck in c:\\users\\musao\\.conda\\envs\\gee\\lib\\site-packages (from pygis) (0.9.0)\n",
      "Requirement already satisfied: retry in c:\\users\\musao\\.conda\\envs\\gee\\lib\\site-packages (from pygis) (0.9.2)\n",
      "Requirement already satisfied: rio-cogeo in c:\\users\\musao\\.conda\\envs\\gee\\lib\\site-packages (from pygis) (5.3.0)\n",
      "Requirement already satisfied: rioxarray in c:\\users\\musao\\.conda\\envs\\gee\\lib\\site-packages (from pygis) (0.15.5)\n",
      "Requirement already satisfied: sankee in c:\\users\\musao\\.conda\\envs\\gee\\lib\\site-packages (from pygis) (0.2.4)\n",
      "Requirement already satisfied: whiteboxgui in c:\\users\\musao\\appdata\\roaming\\python\\python310\\site-packages (from pygis) (2.3.0)\n",
      "Requirement already satisfied: numpy>=1.19 in c:\\users\\musao\\.conda\\envs\\gee\\lib\\site-packages (from geedim>=1.6.1->pygis) (1.26.3)\n",
      "Requirement already satisfied: rasterio>=1.1 in c:\\users\\musao\\.conda\\envs\\gee\\lib\\site-packages (from geedim>=1.6.1->pygis) (1.3.10)\n",
      "Requirement already satisfied: click>=8 in c:\\users\\musao\\.conda\\envs\\gee\\lib\\site-packages (from geedim>=1.6.1->pygis) (8.1.7)\n",
      "Requirement already satisfied: tqdm>=4.6 in c:\\users\\musao\\.conda\\envs\\gee\\lib\\site-packages (from geedim>=1.6.1->pygis) (4.66.1)\n",
      "Requirement already satisfied: earthengine-api>=0.1.2 in c:\\users\\musao\\appdata\\roaming\\python\\python310\\site-packages (from geedim>=1.6.1->pygis) (0.1.384)\n",
      "Requirement already satisfied: requests>=2.2 in c:\\users\\musao\\appdata\\roaming\\python\\python310\\site-packages (from geedim>=1.6.1->pygis) (2.31.0)\n",
      "Requirement already satisfied: tabulate>=0.8 in c:\\users\\musao\\.conda\\envs\\gee\\lib\\site-packages (from geedim>=1.6.1->pygis) (0.9.0)\n",
      "Requirement already satisfied: bqplot in c:\\users\\musao\\appdata\\roaming\\python\\python310\\site-packages (from geemap>=0.32.0->pygis) (0.12.42)\n",
      "Requirement already satisfied: colour in c:\\users\\musao\\appdata\\roaming\\python\\python310\\site-packages (from geemap>=0.32.0->pygis) (0.1.5)\n",
      "Requirement already satisfied: eerepr>=0.0.4 in c:\\users\\musao\\appdata\\roaming\\python\\python310\\site-packages (from geemap>=0.32.0->pygis) (0.0.4)\n",
      "Requirement already satisfied: folium>=0.13.0 in c:\\users\\musao\\appdata\\roaming\\python\\python310\\site-packages (from geemap>=0.32.0->pygis) (0.15.1)\n",
      "Requirement already satisfied: geocoder in c:\\users\\musao\\appdata\\roaming\\python\\python310\\site-packages (from geemap>=0.32.0->pygis) (1.38.1)\n",
      "Requirement already satisfied: ipyevents in c:\\users\\musao\\appdata\\roaming\\python\\python310\\site-packages (from geemap>=0.32.0->pygis) (2.0.2)\n",
      "Requirement already satisfied: ipyfilechooser>=0.6.0 in c:\\users\\musao\\appdata\\roaming\\python\\python310\\site-packages (from geemap>=0.32.0->pygis) (0.6.0)\n",
      "Requirement already satisfied: ipyleaflet==0.18.2 in c:\\users\\musao\\.conda\\envs\\gee\\lib\\site-packages (from geemap>=0.32.0->pygis) (0.18.2)\n",
      "Requirement already satisfied: ipytree in c:\\users\\musao\\appdata\\roaming\\python\\python310\\site-packages (from geemap>=0.32.0->pygis) (0.2.2)\n",
      "Requirement already satisfied: matplotlib in c:\\users\\musao\\.conda\\envs\\gee\\lib\\site-packages (from geemap>=0.32.0->pygis) (3.8.2)\n",
      "Requirement already satisfied: pandas in c:\\users\\musao\\.conda\\envs\\gee\\lib\\site-packages (from geemap>=0.32.0->pygis) (2.2.0)\n",
      "Requirement already satisfied: pyperclip in c:\\users\\musao\\appdata\\roaming\\python\\python310\\site-packages (from geemap>=0.32.0->pygis) (1.8.2)\n",
      "Requirement already satisfied: pyshp>=2.1.3 in c:\\users\\musao\\appdata\\roaming\\python\\python310\\site-packages (from geemap>=0.32.0->pygis) (2.3.1)\n",
      "Requirement already satisfied: python-box in c:\\users\\musao\\appdata\\roaming\\python\\python310\\site-packages (from geemap>=0.32.0->pygis) (7.1.1)\n",
      "Requirement already satisfied: scooby in c:\\users\\musao\\appdata\\roaming\\python\\python310\\site-packages (from geemap>=0.32.0->pygis) (0.9.2)\n",
      "Requirement already satisfied: ipywidgets<9,>=7.6.0 in c:\\users\\musao\\.conda\\envs\\gee\\lib\\site-packages (from ipyleaflet==0.18.2->geemap>=0.32.0->pygis) (8.1.1)\n",
      "Requirement already satisfied: traittypes<3,>=0.2.1 in c:\\users\\musao\\appdata\\roaming\\python\\python310\\site-packages (from ipyleaflet==0.18.2->geemap>=0.32.0->pygis) (0.2.1)\n",
      "Requirement already satisfied: xyzservices>=2021.8.1 in c:\\users\\musao\\appdata\\roaming\\python\\python310\\site-packages (from ipyleaflet==0.18.2->geemap>=0.32.0->pygis) (2023.10.1)\n",
      "Requirement already satisfied: branca>=0.5.0 in c:\\users\\musao\\appdata\\roaming\\python\\python310\\site-packages (from ipyleaflet==0.18.2->geemap>=0.32.0->pygis) (0.7.0)\n",
      "Requirement already satisfied: duckdb in c:\\users\\musao\\appdata\\roaming\\python\\python310\\site-packages (from leafmap>=0.31.5->pygis) (0.9.2)\n",
      "Requirement already satisfied: pystac-client in c:\\users\\musao\\appdata\\roaming\\python\\python310\\site-packages (from leafmap>=0.31.5->pygis) (0.7.5)\n",
      "Requirement already satisfied: flask<4,>=2.0.0 in c:\\users\\musao\\.conda\\envs\\gee\\lib\\site-packages (from localtileserver>=0.10.0->pygis) (3.0.3)\n",
      "Requirement already satisfied: Flask-Caching in c:\\users\\musao\\.conda\\envs\\gee\\lib\\site-packages (from localtileserver>=0.10.0->pygis) (2.2.0)\n",
      "Requirement already satisfied: flask-cors in c:\\users\\musao\\.conda\\envs\\gee\\lib\\site-packages (from localtileserver>=0.10.0->pygis) (4.0.0)\n",
      "Requirement already satisfied: flask-restx>=0.5.0 in c:\\users\\musao\\.conda\\envs\\gee\\lib\\site-packages (from localtileserver>=0.10.0->pygis) (1.3.0)\n",
      "Requirement already satisfied: rio-tiler in c:\\users\\musao\\.conda\\envs\\gee\\lib\\site-packages (from localtileserver>=0.10.0->pygis) (6.4.7)\n",
      "Requirement already satisfied: server-thread in c:\\users\\musao\\.conda\\envs\\gee\\lib\\site-packages (from localtileserver>=0.10.0->pygis) (0.2.0)\n",
      "Requirement already satisfied: werkzeug in c:\\users\\musao\\.conda\\envs\\gee\\lib\\site-packages (from localtileserver>=0.10.0->pygis) (3.0.2)\n",
      "Requirement already satisfied: networkx>=2.7 in c:\\users\\musao\\.conda\\envs\\gee\\lib\\site-packages (from mapclassify>=2.4.0->pygis) (3.3)\n",
      "Requirement already satisfied: scikit-learn>=1.0 in c:\\users\\musao\\.conda\\envs\\gee\\lib\\site-packages (from mapclassify>=2.4.0->pygis) (1.4.2)\n",
      "Requirement already satisfied: scipy>=1.8 in c:\\users\\musao\\.conda\\envs\\gee\\lib\\site-packages (from mapclassify>=2.4.0->pygis) (1.13.0)\n",
      "Requirement already satisfied: Jinja2>=2.9 in c:\\users\\musao\\.conda\\envs\\gee\\lib\\site-packages (from bokeh->pygis) (3.1.3)\n",
      "Requirement already satisfied: contourpy>=1.2 in c:\\users\\musao\\.conda\\envs\\gee\\lib\\site-packages (from bokeh->pygis) (1.2.0)\n",
      "Requirement already satisfied: packaging>=16.8 in c:\\users\\musao\\.conda\\envs\\gee\\lib\\site-packages (from bokeh->pygis) (23.2)\n",
      "Requirement already satisfied: pillow>=7.1.0 in c:\\users\\musao\\.conda\\envs\\gee\\lib\\site-packages (from bokeh->pygis) (10.0.1)\n",
      "Requirement already satisfied: PyYAML>=3.10 in c:\\users\\musao\\.conda\\envs\\gee\\lib\\site-packages (from bokeh->pygis) (6.0.1)\n",
      "Requirement already satisfied: tornado>=6.2 in c:\\users\\musao\\.conda\\envs\\gee\\lib\\site-packages (from bokeh->pygis) (6.3.3)\n",
      "Requirement already satisfied: future in c:\\users\\musao\\.conda\\envs\\gee\\lib\\site-packages (from ffmpeg-python->pygis) (0.18.3)\n",
      "Requirement already satisfied: filelock in c:\\users\\musao\\.conda\\envs\\gee\\lib\\site-packages (from gdown->pygis) (3.13.1)\n",
      "Requirement already satisfied: six in c:\\users\\musao\\.conda\\envs\\gee\\lib\\site-packages (from gdown->pygis) (1.16.0)\n",
      "Requirement already satisfied: beautifulsoup4 in c:\\users\\musao\\.conda\\envs\\gee\\lib\\site-packages (from gdown->pygis) (4.12.3)\n",
      "Requirement already satisfied: logzero>=1.5.0 in c:\\users\\musao\\.conda\\envs\\gee\\lib\\site-packages (from geeadd->pygis) (1.7.0)\n",
      "Requirement already satisfied: fiona>=1.8.19 in c:\\users\\musao\\appdata\\roaming\\python\\python310\\site-packages (from geopandas->pygis) (1.9.3)\n",
      "Requirement already satisfied: pyproj>=3.0.1 in c:\\users\\musao\\appdata\\roaming\\python\\python310\\site-packages (from geopandas->pygis) (3.5.0)\n",
      "Requirement already satisfied: shapely>=1.7.1 in c:\\users\\musao\\appdata\\roaming\\python\\python310\\site-packages (from geopandas->pygis) (2.0.1)\n",
      "Requirement already satisfied: cftime in c:\\users\\musao\\.conda\\envs\\gee\\lib\\site-packages (from netcdf4->pygis) (1.6.3)\n",
      "Requirement already satisfied: certifi in c:\\users\\musao\\.conda\\envs\\gee\\lib\\site-packages (from netcdf4->pygis) (2024.2.2)\n",
      "Requirement already satisfied: python-dateutil>=2.8 in c:\\users\\musao\\.conda\\envs\\gee\\lib\\site-packages (from osmnx->pygis) (2.8.2)\n",
      "Requirement already satisfied: lxml in c:\\users\\musao\\.conda\\envs\\gee\\lib\\site-packages (from owslib->pygis) (5.2.1)\n",
      "Requirement already satisfied: pytz in c:\\users\\musao\\.conda\\envs\\gee\\lib\\site-packages (from owslib->pygis) (2023.3.post1)\n",
      "Requirement already satisfied: tenacity>=6.2.0 in c:\\users\\musao\\.conda\\envs\\gee\\lib\\site-packages (from plotly->pygis) (8.2.3)\n",
      "Requirement already satisfied: decorator>=3.4.2 in c:\\users\\musao\\.conda\\envs\\gee\\lib\\site-packages (from retry->pygis) (5.1.1)\n",
      "Requirement already satisfied: py<2.0.0,>=1.4.26 in c:\\users\\musao\\.conda\\envs\\gee\\lib\\site-packages (from retry->pygis) (1.11.0)\n",
      "Requirement already satisfied: morecantile<6.0,>=5.0 in c:\\users\\musao\\.conda\\envs\\gee\\lib\\site-packages (from rio-cogeo->pygis) (5.3.0)\n",
      "Requirement already satisfied: pydantic~=2.0 in c:\\users\\musao\\.conda\\envs\\gee\\lib\\site-packages (from rio-cogeo->pygis) (2.7.1)\n",
      "Requirement already satisfied: xarray>=2022.3.0 in c:\\users\\musao\\.conda\\envs\\gee\\lib\\site-packages (from rioxarray->pygis) (2024.3.0)\n",
      "Requirement already satisfied: whitebox in c:\\users\\musao\\appdata\\roaming\\python\\python310\\site-packages (from whiteboxgui->pygis) (2.3.1)\n",
      "Requirement already satisfied: soupsieve>1.2 in c:\\users\\musao\\.conda\\envs\\gee\\lib\\site-packages (from beautifulsoup4->gdown->pygis) (2.5)\n",
      "Requirement already satisfied: colorama in c:\\users\\musao\\.conda\\envs\\gee\\lib\\site-packages (from click>=8->geedim>=1.6.1->pygis) (0.4.6)\n",
      "Requirement already satisfied: google-cloud-storage in c:\\users\\musao\\appdata\\roaming\\python\\python310\\site-packages (from earthengine-api>=0.1.2->geedim>=1.6.1->pygis) (2.14.0)\n",
      "Requirement already satisfied: google-api-python-client>=1.12.1 in c:\\users\\musao\\appdata\\roaming\\python\\python310\\site-packages (from earthengine-api>=0.1.2->geedim>=1.6.1->pygis) (2.111.0)\n",
      "Requirement already satisfied: google-auth>=1.4.1 in c:\\users\\musao\\appdata\\roaming\\python\\python310\\site-packages (from earthengine-api>=0.1.2->geedim>=1.6.1->pygis) (2.25.2)\n",
      "Requirement already satisfied: google-auth-httplib2>=0.0.3 in c:\\users\\musao\\appdata\\roaming\\python\\python310\\site-packages (from earthengine-api>=0.1.2->geedim>=1.6.1->pygis) (0.2.0)\n",
      "Requirement already satisfied: httplib2<1dev,>=0.9.2 in c:\\users\\musao\\appdata\\roaming\\python\\python310\\site-packages (from earthengine-api>=0.1.2->geedim>=1.6.1->pygis) (0.22.0)\n",
      "Requirement already satisfied: attrs>=19.2.0 in c:\\users\\musao\\appdata\\roaming\\python\\python310\\site-packages (from fiona>=1.8.19->geopandas->pygis) (23.1.0)\n",
      "Requirement already satisfied: click-plugins>=1.0 in c:\\users\\musao\\appdata\\roaming\\python\\python310\\site-packages (from fiona>=1.8.19->geopandas->pygis) (1.1.1)\n",
      "Requirement already satisfied: cligj>=0.5 in c:\\users\\musao\\appdata\\roaming\\python\\python310\\site-packages (from fiona>=1.8.19->geopandas->pygis) (0.7.2)\n",
      "Requirement already satisfied: munch>=2.3.2 in c:\\users\\musao\\appdata\\roaming\\python\\python310\\site-packages (from fiona>=1.8.19->geopandas->pygis) (2.5.0)\n",
      "Requirement already satisfied: itsdangerous>=2.1.2 in c:\\users\\musao\\.conda\\envs\\gee\\lib\\site-packages (from flask<4,>=2.0.0->localtileserver>=0.10.0->pygis) (2.2.0)\n",
      "Requirement already satisfied: blinker>=1.6.2 in c:\\users\\musao\\.conda\\envs\\gee\\lib\\site-packages (from flask<4,>=2.0.0->localtileserver>=0.10.0->pygis) (1.8.1)\n",
      "Requirement already satisfied: aniso8601>=0.82 in c:\\users\\musao\\.conda\\envs\\gee\\lib\\site-packages (from flask-restx>=0.5.0->localtileserver>=0.10.0->pygis) (9.0.1)\n",
      "Requirement already satisfied: jsonschema in c:\\users\\musao\\appdata\\roaming\\python\\python310\\site-packages (from flask-restx>=0.5.0->localtileserver>=0.10.0->pygis) (4.20.0)\n",
      "Requirement already satisfied: importlib-resources in c:\\users\\musao\\.conda\\envs\\gee\\lib\\site-packages (from flask-restx>=0.5.0->localtileserver>=0.10.0->pygis) (6.1.1)\n",
      "Requirement already satisfied: comm>=0.1.3 in c:\\users\\musao\\.conda\\envs\\gee\\lib\\site-packages (from ipywidgets<9,>=7.6.0->ipyleaflet==0.18.2->geemap>=0.32.0->pygis) (0.2.1)\n",
      "Requirement already satisfied: ipython>=6.1.0 in c:\\users\\musao\\.conda\\envs\\gee\\lib\\site-packages (from ipywidgets<9,>=7.6.0->ipyleaflet==0.18.2->geemap>=0.32.0->pygis) (8.20.0)\n",
      "Requirement already satisfied: traitlets>=4.3.1 in c:\\users\\musao\\.conda\\envs\\gee\\lib\\site-packages (from ipywidgets<9,>=7.6.0->ipyleaflet==0.18.2->geemap>=0.32.0->pygis) (5.14.1)\n",
      "Requirement already satisfied: widgetsnbextension~=4.0.9 in c:\\users\\musao\\.conda\\envs\\gee\\lib\\site-packages (from ipywidgets<9,>=7.6.0->ipyleaflet==0.18.2->geemap>=0.32.0->pygis) (4.0.9)\n",
      "Requirement already satisfied: jupyterlab-widgets~=3.0.9 in c:\\users\\musao\\.conda\\envs\\gee\\lib\\site-packages (from ipywidgets<9,>=7.6.0->ipyleaflet==0.18.2->geemap>=0.32.0->pygis) (3.0.9)\n",
      "Requirement already satisfied: MarkupSafe>=2.0 in c:\\users\\musao\\.conda\\envs\\gee\\lib\\site-packages (from Jinja2>=2.9->bokeh->pygis) (2.1.4)\n",
      "Requirement already satisfied: cycler>=0.10 in c:\\users\\musao\\.conda\\envs\\gee\\lib\\site-packages (from matplotlib->geemap>=0.32.0->pygis) (0.12.1)\n",
      "Requirement already satisfied: fonttools>=4.22.0 in c:\\users\\musao\\.conda\\envs\\gee\\lib\\site-packages (from matplotlib->geemap>=0.32.0->pygis) (4.47.2)\n",
      "Requirement already satisfied: kiwisolver>=1.3.1 in c:\\users\\musao\\.conda\\envs\\gee\\lib\\site-packages (from matplotlib->geemap>=0.32.0->pygis) (1.4.5)\n",
      "Requirement already satisfied: pyparsing>=2.3.1 in c:\\users\\musao\\.conda\\envs\\gee\\lib\\site-packages (from matplotlib->geemap>=0.32.0->pygis) (3.1.1)\n",
      "Requirement already satisfied: tzdata>=2022.7 in c:\\users\\musao\\.conda\\envs\\gee\\lib\\site-packages (from pandas->geemap>=0.32.0->pygis) (2023.4)\n",
      "Requirement already satisfied: annotated-types>=0.4.0 in c:\\users\\musao\\.conda\\envs\\gee\\lib\\site-packages (from pydantic~=2.0->rio-cogeo->pygis) (0.6.0)\n",
      "Requirement already satisfied: pydantic-core==2.18.2 in c:\\users\\musao\\.conda\\envs\\gee\\lib\\site-packages (from pydantic~=2.0->rio-cogeo->pygis) (2.18.2)\n",
      "Requirement already satisfied: typing-extensions>=4.6.1 in c:\\users\\musao\\.conda\\envs\\gee\\lib\\site-packages (from pydantic~=2.0->rio-cogeo->pygis) (4.9.0)\n",
      "Requirement already satisfied: affine in c:\\users\\musao\\.conda\\envs\\gee\\lib\\site-packages (from rasterio>=1.1->geedim>=1.6.1->pygis) (2.4.0)\n",
      "Requirement already satisfied: snuggs>=1.4.1 in c:\\users\\musao\\.conda\\envs\\gee\\lib\\site-packages (from rasterio>=1.1->geedim>=1.6.1->pygis) (1.4.7)\n",
      "Requirement already satisfied: setuptools in c:\\users\\musao\\.conda\\envs\\gee\\lib\\site-packages (from rasterio>=1.1->geedim>=1.6.1->pygis) (68.2.2)\n",
      "Requirement already satisfied: charset-normalizer<4,>=2 in c:\\users\\musao\\.conda\\envs\\gee\\lib\\site-packages (from requests>=2.2->geedim>=1.6.1->pygis) (3.3.2)\n",
      "Requirement already satisfied: idna<4,>=2.5 in c:\\users\\musao\\.conda\\envs\\gee\\lib\\site-packages (from requests>=2.2->geedim>=1.6.1->pygis) (3.6)\n",
      "Requirement already satisfied: urllib3<3,>=1.21.1 in c:\\users\\musao\\.conda\\envs\\gee\\lib\\site-packages (from requests>=2.2->geedim>=1.6.1->pygis) (2.1.0)\n",
      "Requirement already satisfied: joblib>=1.2.0 in c:\\users\\musao\\.conda\\envs\\gee\\lib\\site-packages (from scikit-learn>=1.0->mapclassify>=2.4.0->pygis) (1.4.0)\n",
      "Requirement already satisfied: threadpoolctl>=2.0.0 in c:\\users\\musao\\.conda\\envs\\gee\\lib\\site-packages (from scikit-learn>=1.0->mapclassify>=2.4.0->pygis) (3.5.0)\n",
      "Requirement already satisfied: cachelib<0.10.0,>=0.9.0 in c:\\users\\musao\\.conda\\envs\\gee\\lib\\site-packages (from Flask-Caching->localtileserver>=0.10.0->pygis) (0.9.0)\n",
      "Requirement already satisfied: ratelim in c:\\users\\musao\\appdata\\roaming\\python\\python310\\site-packages (from geocoder->geemap>=0.32.0->pygis) (0.1.6)\n",
      "Requirement already satisfied: pystac>=1.8.2 in c:\\users\\musao\\appdata\\roaming\\python\\python310\\site-packages (from pystac[validation]>=1.8.2->pystac-client->leafmap>=0.31.5->pygis) (1.9.0)\n",
      "Requirement already satisfied: PySocks!=1.5.7,>=1.5.6 in c:\\users\\musao\\.conda\\envs\\gee\\lib\\site-packages (from requests[socks]->gdown->pygis) (1.7.1)\n",
      "Requirement already satisfied: cachetools in c:\\users\\musao\\appdata\\roaming\\python\\python310\\site-packages (from rio-tiler->localtileserver>=0.10.0->pygis) (5.3.2)\n",
      "Requirement already satisfied: color-operations in c:\\users\\musao\\.conda\\envs\\gee\\lib\\site-packages (from rio-tiler->localtileserver>=0.10.0->pygis) (0.1.3)\n",
      "Requirement already satisfied: httpx in c:\\users\\musao\\.conda\\envs\\gee\\lib\\site-packages (from rio-tiler->localtileserver>=0.10.0->pygis) (0.27.0)\n",
      "Requirement already satisfied: numexpr in c:\\users\\musao\\.conda\\envs\\gee\\lib\\site-packages (from rio-tiler->localtileserver>=0.10.0->pygis) (2.10.0)\n",
      "Requirement already satisfied: uvicorn in c:\\users\\musao\\.conda\\envs\\gee\\lib\\site-packages (from server-thread->localtileserver>=0.10.0->pygis) (0.29.0)\n",
      "Requirement already satisfied: google-api-core!=2.0.*,!=2.1.*,!=2.2.*,!=2.3.0,<3.0.0.dev0,>=1.31.5 in c:\\users\\musao\\appdata\\roaming\\python\\python310\\site-packages (from google-api-python-client>=1.12.1->earthengine-api>=0.1.2->geedim>=1.6.1->pygis) (2.15.0)\n",
      "Requirement already satisfied: uritemplate<5,>=3.0.1 in c:\\users\\musao\\appdata\\roaming\\python\\python310\\site-packages (from google-api-python-client>=1.12.1->earthengine-api>=0.1.2->geedim>=1.6.1->pygis) (4.1.1)\n",
      "Requirement already satisfied: pyasn1-modules>=0.2.1 in c:\\users\\musao\\.conda\\envs\\gee\\lib\\site-packages (from google-auth>=1.4.1->earthengine-api>=0.1.2->geedim>=1.6.1->pygis) (0.3.0)\n",
      "Requirement already satisfied: rsa<5,>=3.1.4 in c:\\users\\musao\\appdata\\roaming\\python\\python310\\site-packages (from google-auth>=1.4.1->earthengine-api>=0.1.2->geedim>=1.6.1->pygis) (4.9)\n",
      "Requirement already satisfied: jedi>=0.16 in c:\\users\\musao\\.conda\\envs\\gee\\lib\\site-packages (from ipython>=6.1.0->ipywidgets<9,>=7.6.0->ipyleaflet==0.18.2->geemap>=0.32.0->pygis) (0.19.1)\n",
      "Requirement already satisfied: matplotlib-inline in c:\\users\\musao\\.conda\\envs\\gee\\lib\\site-packages (from ipython>=6.1.0->ipywidgets<9,>=7.6.0->ipyleaflet==0.18.2->geemap>=0.32.0->pygis) (0.1.6)\n",
      "Requirement already satisfied: prompt-toolkit<3.1.0,>=3.0.41 in c:\\users\\musao\\.conda\\envs\\gee\\lib\\site-packages (from ipython>=6.1.0->ipywidgets<9,>=7.6.0->ipyleaflet==0.18.2->geemap>=0.32.0->pygis) (3.0.42)\n",
      "Requirement already satisfied: pygments>=2.4.0 in c:\\users\\musao\\.conda\\envs\\gee\\lib\\site-packages (from ipython>=6.1.0->ipywidgets<9,>=7.6.0->ipyleaflet==0.18.2->geemap>=0.32.0->pygis) (2.17.2)\n",
      "Requirement already satisfied: stack-data in c:\\users\\musao\\.conda\\envs\\gee\\lib\\site-packages (from ipython>=6.1.0->ipywidgets<9,>=7.6.0->ipyleaflet==0.18.2->geemap>=0.32.0->pygis) (0.6.2)\n",
      "Requirement already satisfied: exceptiongroup in c:\\users\\musao\\appdata\\roaming\\python\\python310\\site-packages (from ipython>=6.1.0->ipywidgets<9,>=7.6.0->ipyleaflet==0.18.2->geemap>=0.32.0->pygis) (1.2.0)\n",
      "Requirement already satisfied: jsonschema-specifications>=2023.03.6 in c:\\users\\musao\\appdata\\roaming\\python\\python310\\site-packages (from jsonschema->flask-restx>=0.5.0->localtileserver>=0.10.0->pygis) (2023.11.2)\n",
      "Requirement already satisfied: referencing>=0.28.4 in c:\\users\\musao\\appdata\\roaming\\python\\python310\\site-packages (from jsonschema->flask-restx>=0.5.0->localtileserver>=0.10.0->pygis) (0.32.0)\n",
      "Requirement already satisfied: rpds-py>=0.7.1 in c:\\users\\musao\\appdata\\roaming\\python\\python310\\site-packages (from jsonschema->flask-restx>=0.5.0->localtileserver>=0.10.0->pygis) (0.15.2)\n",
      "Requirement already satisfied: google-cloud-core<3.0dev,>=2.3.0 in c:\\users\\musao\\appdata\\roaming\\python\\python310\\site-packages (from google-cloud-storage->earthengine-api>=0.1.2->geedim>=1.6.1->pygis) (2.4.1)\n",
      "Requirement already satisfied: google-resumable-media>=2.6.0 in c:\\users\\musao\\appdata\\roaming\\python\\python310\\site-packages (from google-cloud-storage->earthengine-api>=0.1.2->geedim>=1.6.1->pygis) (2.7.0)\n",
      "Requirement already satisfied: google-crc32c<2.0dev,>=1.0 in c:\\users\\musao\\appdata\\roaming\\python\\python310\\site-packages (from google-cloud-storage->earthengine-api>=0.1.2->geedim>=1.6.1->pygis) (1.5.0)\n",
      "Requirement already satisfied: anyio in c:\\users\\musao\\.conda\\envs\\gee\\lib\\site-packages (from httpx->rio-tiler->localtileserver>=0.10.0->pygis) (4.2.0)\n",
      "Requirement already satisfied: httpcore==1.* in c:\\users\\musao\\.conda\\envs\\gee\\lib\\site-packages (from httpx->rio-tiler->localtileserver>=0.10.0->pygis) (1.0.5)\n",
      "Requirement already satisfied: sniffio in c:\\users\\musao\\appdata\\roaming\\python\\python310\\site-packages (from httpx->rio-tiler->localtileserver>=0.10.0->pygis) (1.3.0)\n",
      "Requirement already satisfied: h11<0.15,>=0.13 in c:\\users\\musao\\appdata\\roaming\\python\\python310\\site-packages (from httpcore==1.*->httpx->rio-tiler->localtileserver>=0.10.0->pygis) (0.14.0)\n",
      "Requirement already satisfied: googleapis-common-protos<2.0.dev0,>=1.56.2 in c:\\users\\musao\\appdata\\roaming\\python\\python310\\site-packages (from google-api-core!=2.0.*,!=2.1.*,!=2.2.*,!=2.3.0,<3.0.0.dev0,>=1.31.5->google-api-python-client>=1.12.1->earthengine-api>=0.1.2->geedim>=1.6.1->pygis) (1.62.0)\n",
      "Requirement already satisfied: protobuf!=3.20.0,!=3.20.1,!=4.21.0,!=4.21.1,!=4.21.2,!=4.21.3,!=4.21.4,!=4.21.5,<5.0.0.dev0,>=3.19.5 in c:\\users\\musao\\appdata\\roaming\\python\\python310\\site-packages (from google-api-core!=2.0.*,!=2.1.*,!=2.2.*,!=2.3.0,<3.0.0.dev0,>=1.31.5->google-api-python-client>=1.12.1->earthengine-api>=0.1.2->geedim>=1.6.1->pygis) (4.25.1)\n",
      "Requirement already satisfied: parso<0.9.0,>=0.8.3 in c:\\users\\musao\\.conda\\envs\\gee\\lib\\site-packages (from jedi>=0.16->ipython>=6.1.0->ipywidgets<9,>=7.6.0->ipyleaflet==0.18.2->geemap>=0.32.0->pygis) (0.8.3)\n",
      "Requirement already satisfied: wcwidth in c:\\users\\musao\\.conda\\envs\\gee\\lib\\site-packages (from prompt-toolkit<3.1.0,>=3.0.41->ipython>=6.1.0->ipywidgets<9,>=7.6.0->ipyleaflet==0.18.2->geemap>=0.32.0->pygis) (0.2.13)\n",
      "Requirement already satisfied: pyasn1<0.6.0,>=0.4.6 in c:\\users\\musao\\.conda\\envs\\gee\\lib\\site-packages (from pyasn1-modules>=0.2.1->google-auth>=1.4.1->earthengine-api>=0.1.2->geedim>=1.6.1->pygis) (0.5.1)\n",
      "Requirement already satisfied: executing>=1.2.0 in c:\\users\\musao\\.conda\\envs\\gee\\lib\\site-packages (from stack-data->ipython>=6.1.0->ipywidgets<9,>=7.6.0->ipyleaflet==0.18.2->geemap>=0.32.0->pygis) (2.0.1)\n",
      "Requirement already satisfied: asttokens>=2.1.0 in c:\\users\\musao\\.conda\\envs\\gee\\lib\\site-packages (from stack-data->ipython>=6.1.0->ipywidgets<9,>=7.6.0->ipyleaflet==0.18.2->geemap>=0.32.0->pygis) (2.4.1)\n",
      "Requirement already satisfied: pure-eval in c:\\users\\musao\\.conda\\envs\\gee\\lib\\site-packages (from stack-data->ipython>=6.1.0->ipywidgets<9,>=7.6.0->ipyleaflet==0.18.2->geemap>=0.32.0->pygis) (0.2.2)\n"
     ]
    }
   ],
   "source": [
    "%pip install pygis"
   ]
  },
  {
   "cell_type": "code",
   "execution_count": 11,
   "metadata": {},
   "outputs": [
    {
     "data": {
      "text/html": [
       "\n",
       "            <style>\n",
       "                .geemap-dark {\n",
       "                    --jp-widgets-color: white;\n",
       "                    --jp-widgets-label-color: white;\n",
       "                    --jp-ui-font-color1: white;\n",
       "                    --jp-layout-color2: #454545;\n",
       "                    background-color: #383838;\n",
       "                }\n",
       "\n",
       "                .geemap-dark .jupyter-button {\n",
       "                    --jp-layout-color3: #383838;\n",
       "                }\n",
       "\n",
       "                .geemap-colab {\n",
       "                    background-color: var(--colab-primary-surface-color, white);\n",
       "                }\n",
       "\n",
       "                .geemap-colab .jupyter-button {\n",
       "                    --jp-layout-color3: var(--colab-primary-surface-color, white);\n",
       "                }\n",
       "            </style>\n",
       "            "
      ],
      "text/plain": [
       "<IPython.core.display.HTML object>"
      ]
     },
     "metadata": {},
     "output_type": "display_data"
    }
   ],
   "source": [
    "import geemap\n",
    "import ee\n"
   ]
  },
  {
   "cell_type": "code",
   "execution_count": 13,
   "metadata": {},
   "outputs": [
    {
     "data": {
      "text/html": [
       "\n",
       "            <style>\n",
       "                .geemap-dark {\n",
       "                    --jp-widgets-color: white;\n",
       "                    --jp-widgets-label-color: white;\n",
       "                    --jp-ui-font-color1: white;\n",
       "                    --jp-layout-color2: #454545;\n",
       "                    background-color: #383838;\n",
       "                }\n",
       "\n",
       "                .geemap-dark .jupyter-button {\n",
       "                    --jp-layout-color3: #383838;\n",
       "                }\n",
       "\n",
       "                .geemap-colab {\n",
       "                    background-color: var(--colab-primary-surface-color, white);\n",
       "                }\n",
       "\n",
       "                .geemap-colab .jupyter-button {\n",
       "                    --jp-layout-color3: var(--colab-primary-surface-color, white);\n",
       "                }\n",
       "            </style>\n",
       "            "
      ],
      "text/plain": [
       "<IPython.core.display.HTML object>"
      ]
     },
     "metadata": {},
     "output_type": "display_data"
    },
    {
     "data": {
      "application/vnd.jupyter.widget-view+json": {
       "model_id": "3de975f7722b4e7088f26bd741b41c6a",
       "version_major": 2,
       "version_minor": 0
      },
      "text/plain": [
       "Map(center=[52.4305, 20.6729], controls=(ZoomControl(options=['position', 'zoom_in_text', 'zoom_in_title', 'zo…"
      ]
     },
     "execution_count": 13,
     "metadata": {},
     "output_type": "execute_result"
    }
   ],
   "source": [
    "import ee\n",
    "import geemap.core as geemap\n",
    "# Construct a collection of corresponding Dynamic World and Sentinel-2 for\n",
    "# inspection. Filter the DW and S2 collections by region and date.\n",
    "START = ee.Date('2021-04-02')\n",
    "END = START.advance(1, 'day')\n",
    "\n",
    "col_filter = ee.Filter.And(\n",
    "    ee.Filter.bounds(ee.Geometry.Point(20.6729, 52.4305)),\n",
    "    ee.Filter.date(START, END),\n",
    ")\n",
    "\n",
    "dw_col = ee.ImageCollection('GOOGLE/DYNAMICWORLD/V1').filter(col_filter)\n",
    "s2_col = ee.ImageCollection('COPERNICUS/S2').filter(col_filter)\n",
    "\n",
    "# Join corresponding DW and S2 images (by system:index).\n",
    "dw_s2_col = ee.Join.saveFirst('s2_img').apply(\n",
    "    dw_col,\n",
    "    s2_col,\n",
    "    ee.Filter.equals(leftField='system:index', rightField='system:index'),\n",
    ")\n",
    "\n",
    "# Extract an example DW image and its source S2 image.\n",
    "dw_image = ee.Image(dw_s2_col.first())\n",
    "s2_image = ee.Image(dw_image.get('s2_img'))\n",
    "\n",
    "# Create a visualization that blends DW class label with probability.\n",
    "# Define list pairs of DW LULC label and color.\n",
    "CLASS_NAMES = [\n",
    "    'water',\n",
    "    'trees',\n",
    "    'grass',\n",
    "    'flooded_vegetation',\n",
    "    'crops',\n",
    "    'shrub_and_scrub',\n",
    "    'built',\n",
    "    'bare',\n",
    "    'snow_and_ice',\n",
    "]\n",
    "\n",
    "VIS_PALETTE = [\n",
    "    '419bdf',\n",
    "    '397d49',\n",
    "    '88b053',\n",
    "    '7a87c6',\n",
    "    'e49635',\n",
    "    'dfc35a',\n",
    "    'c4281b',\n",
    "    'a59b8f',\n",
    "    'b39fe1',\n",
    "]\n",
    "\n",
    "# Create an RGB image of the label (most likely class) on [0, 1].\n",
    "dw_rgb = (\n",
    "    dw_image.select('label')\n",
    "    .visualize(min=0, max=8, palette=VIS_PALETTE)\n",
    "    .divide(255)\n",
    ")\n",
    "\n",
    "# Get the most likely class probability.\n",
    "top1_prob = dw_image.select(CLASS_NAMES).reduce(ee.Reducer.max())\n",
    "\n",
    "# Create a hillshade of the most likely class probability on [0, 1]\n",
    "top1_prob_hillshade = ee.Terrain.hillshade(top1_prob.multiply(100)).divide(255)\n",
    "\n",
    "# Combine the RGB image with the hillshade.\n",
    "dw_rgb_hillshade = dw_rgb.multiply(top1_prob_hillshade)\n",
    "\n",
    "# Display the Dynamic World visualization with the source Sentinel-2 image.\n",
    "m = geemap.Map()\n",
    "m.set_center(20.6729, 52.4305, 12)\n",
    "m.add_layer(\n",
    "    s2_image,\n",
    "    {'min': 0, 'max': 3000, 'bands': ['B4', 'B3', 'B2']},\n",
    "    'Sentinel-2 L1C',\n",
    ")\n",
    "m.add_layer(\n",
    "    dw_rgb_hillshade,\n",
    "    {'min': 0, 'max': 0.65},\n",
    "    'Dynamic World V1 - label hillshade',\n",
    ")\n",
    "m"
   ]
  },
  {
   "cell_type": "code",
   "execution_count": 64,
   "metadata": {},
   "outputs": [
    {
     "data": {
      "text/html": [
       "\n",
       "            <style>\n",
       "                .geemap-dark {\n",
       "                    --jp-widgets-color: white;\n",
       "                    --jp-widgets-label-color: white;\n",
       "                    --jp-ui-font-color1: white;\n",
       "                    --jp-layout-color2: #454545;\n",
       "                    background-color: #383838;\n",
       "                }\n",
       "\n",
       "                .geemap-dark .jupyter-button {\n",
       "                    --jp-layout-color3: #383838;\n",
       "                }\n",
       "\n",
       "                .geemap-colab {\n",
       "                    background-color: var(--colab-primary-surface-color, white);\n",
       "                }\n",
       "\n",
       "                .geemap-colab .jupyter-button {\n",
       "                    --jp-layout-color3: var(--colab-primary-surface-color, white);\n",
       "                }\n",
       "            </style>\n",
       "            "
      ],
      "text/plain": [
       "<IPython.core.display.HTML object>"
      ]
     },
     "metadata": {},
     "output_type": "display_data"
    },
    {
     "name": "stdout",
     "output_type": "stream",
     "text": [
      "Area of Land Use Land Classes (in sq.km) {'groups': [{'class': 1, 'sum': 9810.862369396771}, {'class': 2, 'sum': 791.8388733944862}, {'class': 3, 'sum': 86.41006568419132}, {'class': 4, 'sum': 2738.793897059017}, {'class': 5, 'sum': 79447.01935908129}, {'class': 6, 'sum': 290953.638782782}, {'class': 7, 'sum': 9967.36634583833}, {'class': 8, 'sum': 42082.72594538445}]}\n"
     ]
    },
    {
     "data": {
      "application/vnd.jupyter.widget-view+json": {
       "model_id": "8c26523e85e645179048ae6bc418b8a6",
       "version_major": 2,
       "version_minor": 0
      },
      "text/plain": [
       "Map(center=[33.223191, 43.679291], controls=(WidgetControl(options=['position', 'transparent_bg'], widget=Sear…"
      ]
     },
     "metadata": {},
     "output_type": "display_data"
    }
   ],
   "source": [
    "import ee\n",
    "import geemap\n",
    "import ipywidgets as widgets\n",
    "from IPython.display import display\n",
    "from ipyleaflet import WidgetControl\n",
    "\n",
    "# Initialize Earth Engine API\n",
    "ee.Initialize()\n",
    "\n",
    "# Load the Esri Land Cover 2020 dataset\n",
    "esri_lulc10 = ee.ImageCollection(\"projects/sat-io/open-datasets/landcover/ESRI_Global-LULC_10m\")\n",
    "iraq = ee.FeatureCollection(\"FAO/GAUL/2015/level2\").filter(ee.Filter.eq('ADM0_NAME', 'Iraq'))\n",
    "\n",
    "# Define a dictionary for the legend\n",
    "legend_dict = {\n",
    "    \"names\": [\n",
    "        \"Water\", \"Trees\", \"Grass\", \"Flooded Vegetation\", \"Crops\",\n",
    "        \"Scrub/Shrub\", \"Built Area\", \"Bare Ground\", \"Snow/Ice\", \"Clouds\"\n",
    "    ],\n",
    "    \"colors\": [\n",
    "        \"#1A5BAB\", \"#358221\", \"#A7D282\", \"#87D19E\", \"#FFDB5C\", \"#EECFA8\",\n",
    "        \"#ED022A\", \"#EDE9E4\", \"#F2FAFF\", \"#C8C8C8\"\n",
    "    ]\n",
    "}\n",
    "\n",
    "# Add dataset to the map\n",
    "LULC_10m = esri_lulc10.mosaic()\n",
    "iraq_LULC_2020 = LULC_10m.clip(iraq)\n",
    "\n",
    "# Calculate area covered by each land cover class (sq.km)\n",
    "area_image = ee.Image.pixelArea().divide(1000*1000).addBands(iraq_LULC_2020)\n",
    "areas = area_image.reduceRegion(\n",
    "    reducer=ee.Reducer.sum().group(**{\n",
    "        'groupField': 1,\n",
    "        'groupName': 'class',\n",
    "    }),\n",
    "    geometry=iraq.geometry(),\n",
    "    scale=500,\n",
    "    maxPixels=1e10\n",
    ")\n",
    "\n",
    "# Print area information\n",
    "print('Area of Land Use Land Classes (in sq.km)', areas.getInfo())\n",
    "\n",
    "# Create a legend panel manually with colors\n",
    "legend_items = []\n",
    "for name, color in zip(legend_dict[\"names\"], legend_dict[\"colors\"]):\n",
    "    legend_item = widgets.HTML(value=f'<div style=\"display:flex; align-items:center;\"><div style=\"width:20px; height:20px; background-color:{color}; margin-right:5px;\"></div><div>{name}</div></div>')\n",
    "    legend_items.append(legend_item)\n",
    "\n",
    "legend_panel = widgets.VBox(legend_items)\n",
    "legend_control = WidgetControl(widget=legend_panel, position='bottomright')\n",
    "\n",
    "# Create a map\n",
    "map1 = geemap.Map(center=[33.223191, 43.679291], zoom=7)\n",
    "\n",
    "# Add layers to the map\n",
    "map1.addLayer(iraq_LULC_2020, {'min': 1, 'max': 10, 'palette': legend_dict['colors']}, 'Iraq_LULC_2020 10m')\n",
    "\n",
    "# Add legend control to the map\n",
    "map1.add_control(legend_control)\n",
    "\n",
    "# Display the map\n",
    "display(map1)\n"
   ]
  },
  {
   "cell_type": "code",
   "execution_count": 44,
   "metadata": {},
   "outputs": [
    {
     "data": {
      "text/html": [
       "\n",
       "            <style>\n",
       "                .geemap-dark {\n",
       "                    --jp-widgets-color: white;\n",
       "                    --jp-widgets-label-color: white;\n",
       "                    --jp-ui-font-color1: white;\n",
       "                    --jp-layout-color2: #454545;\n",
       "                    background-color: #383838;\n",
       "                }\n",
       "\n",
       "                .geemap-dark .jupyter-button {\n",
       "                    --jp-layout-color3: #383838;\n",
       "                }\n",
       "\n",
       "                .geemap-colab {\n",
       "                    background-color: var(--colab-primary-surface-color, white);\n",
       "                }\n",
       "\n",
       "                .geemap-colab .jupyter-button {\n",
       "                    --jp-layout-color3: var(--colab-primary-surface-color, white);\n",
       "                }\n",
       "            </style>\n",
       "            "
      ],
      "text/plain": [
       "<IPython.core.display.HTML object>"
      ]
     },
     "metadata": {},
     "output_type": "display_data"
    },
    {
     "name": "stdout",
     "output_type": "stream",
     "text": [
      "Area of Land Use Land Classes (in sq.km) {'groups': [{'class': 1, 'sum': 1399.0496274472982}, {'class': 2, 'sum': 1303.9877334848582}, {'class': 3, 'sum': 36.291626453124984}, {'class': 4, 'sum': 55.57855969767154}, {'class': 5, 'sum': 33407.54915144907}, {'class': 6, 'sum': 119423.1624662734}, {'class': 7, 'sum': 6585.071651024614}, {'class': 8, 'sum': 25926.48612055669}, {'class': 9, 'sum': 0.203318234375}]}\n"
     ]
    },
    {
     "data": {
      "application/vnd.jupyter.widget-view+json": {
       "model_id": "4b070c43577a40db95b76e2e0de89c45",
       "version_major": 2,
       "version_minor": 0
      },
      "text/plain": [
       "Map(center=[35.0, 38.0], controls=(WidgetControl(options=['position', 'transparent_bg'], widget=SearchDataGUI(…"
      ]
     },
     "metadata": {},
     "output_type": "display_data"
    }
   ],
   "source": [
    "import ee\n",
    "import geemap\n",
    "import ipywidgets as widgets\n",
    "from IPython.display import display\n",
    "from ipyleaflet import WidgetControl\n",
    "\n",
    "# Initialize Earth Engine API\n",
    "ee.Initialize()\n",
    "\n",
    "# Load the Esri Land Cover 2020 dataset\n",
    "esri_lulc10 = ee.ImageCollection(\"projects/sat-io/open-datasets/landcover/ESRI_Global-LULC_10m\")\n",
    "syria = ee.FeatureCollection(\"FAO/GAUL/2015/level2\").filter(ee.Filter.eq('ADM0_NAME', 'Syrian Arab Republic'))\n",
    "\n",
    "# Define a dictionary for the legend\n",
    "legend_dict = {\n",
    "    \"names\": [\n",
    "        \"Water\", \"Trees\", \"Grass\", \"Flooded Vegetation\", \"Crops\",\n",
    "        \"Scrub/Shrub\", \"Built Area\", \"Bare Ground\", \"Snow/Ice\", \"Clouds\"\n",
    "    ],\n",
    "    \"colors\": [\n",
    "        \"#1A5BAB\", \"#358221\", \"#A7D282\", \"#87D19E\", \"#FFDB5C\", \"#EECFA8\",\n",
    "        \"#ED022A\", \"#EDE9E4\", \"#F2FAFF\", \"#C8C8C8\"\n",
    "    ]\n",
    "}\n",
    "\n",
    "# Add dataset to the map\n",
    "LULC_10m = esri_lulc10.mosaic()\n",
    "syria_LULC_2020 = LULC_10m.clip(syria)\n",
    "\n",
    "# Calculate area covered by each land cover class (sq.km)\n",
    "area_image = ee.Image.pixelArea().divide(1000*1000).addBands(syria_LULC_2020)\n",
    "areas = area_image.reduceRegion(\n",
    "    reducer=ee.Reducer.sum().group(**{\n",
    "        'groupField': 1,\n",
    "        'groupName': 'class',\n",
    "    }),\n",
    "    geometry=syria.geometry(),\n",
    "    scale=500,\n",
    "    maxPixels=1e10\n",
    ")\n",
    "\n",
    "# Print area information\n",
    "print('Area of Land Use Land Classes (in sq.km)', areas.getInfo())\n",
    "\n",
    "# Create a legend panel manually with colors\n",
    "legend_items = []\n",
    "for name, color in zip(legend_dict[\"names\"], legend_dict[\"colors\"]):\n",
    "    legend_item = widgets.HTML(value=f'<div style=\"display:flex; align-items:center;\"><div style=\"width:20px; height:20px; background-color:{color}; margin-right:5px;\"></div><div>{name}</div></div>')\n",
    "    legend_items.append(legend_item)\n",
    "\n",
    "legend_panel = widgets.VBox(legend_items)\n",
    "legend_control = WidgetControl(widget=legend_panel, position='bottomright')\n",
    "\n",
    "# Create a map\n",
    "map1 = geemap.Map(center=[35.0000, 38.0000], zoom=7)  # Centered around Syria\n",
    "\n",
    "# Add layers to the map\n",
    "map1.addLayer(syria_LULC_2020, {'min': 1, 'max': 10, 'palette': legend_dict['colors']}, 'Syria_LULC_2020 10m')\n",
    "\n",
    "# Add legend control to the map\n",
    "map1.add_control(legend_control)\n",
    "\n",
    "# Display the map\n",
    "display(map1)\n"
   ]
  },
  {
   "cell_type": "code",
   "execution_count": 60,
   "metadata": {},
   "outputs": [
    {
     "data": {
      "text/html": [
       "\n",
       "            <style>\n",
       "                .geemap-dark {\n",
       "                    --jp-widgets-color: white;\n",
       "                    --jp-widgets-label-color: white;\n",
       "                    --jp-ui-font-color1: white;\n",
       "                    --jp-layout-color2: #454545;\n",
       "                    background-color: #383838;\n",
       "                }\n",
       "\n",
       "                .geemap-dark .jupyter-button {\n",
       "                    --jp-layout-color3: #383838;\n",
       "                }\n",
       "\n",
       "                .geemap-colab {\n",
       "                    background-color: var(--colab-primary-surface-color, white);\n",
       "                }\n",
       "\n",
       "                .geemap-colab .jupyter-button {\n",
       "                    --jp-layout-color3: var(--colab-primary-surface-color, white);\n",
       "                }\n",
       "            </style>\n",
       "            "
      ],
      "text/plain": [
       "<IPython.core.display.HTML object>"
      ]
     },
     "metadata": {},
     "output_type": "display_data"
    }
   ],
   "source": [
    "dataset_id = \"projects/sat-io/open-datasets/landcover/ESRI_Global-LULC_10m_TS\"\n"
   ]
  },
  {
   "cell_type": "code",
   "execution_count": 61,
   "metadata": {},
   "outputs": [
    {
     "data": {
      "text/html": [
       "\n",
       "            <style>\n",
       "                .geemap-dark {\n",
       "                    --jp-widgets-color: white;\n",
       "                    --jp-widgets-label-color: white;\n",
       "                    --jp-ui-font-color1: white;\n",
       "                    --jp-layout-color2: #454545;\n",
       "                    background-color: #383838;\n",
       "                }\n",
       "\n",
       "                .geemap-dark .jupyter-button {\n",
       "                    --jp-layout-color3: #383838;\n",
       "                }\n",
       "\n",
       "                .geemap-colab {\n",
       "                    background-color: var(--colab-primary-surface-color, white);\n",
       "                }\n",
       "\n",
       "                .geemap-colab .jupyter-button {\n",
       "                    --jp-layout-color3: var(--colab-primary-surface-color, white);\n",
       "                }\n",
       "            </style>\n",
       "            "
      ],
      "text/plain": [
       "<IPython.core.display.HTML object>"
      ]
     },
     "metadata": {},
     "output_type": "display_data"
    }
   ],
   "source": [
    "esri_landcover = ee.ImageCollection(dataset_id)\n"
   ]
  },
  {
   "cell_type": "code",
   "execution_count": 62,
   "metadata": {},
   "outputs": [
    {
     "data": {
      "text/html": [
       "\n",
       "            <style>\n",
       "                .geemap-dark {\n",
       "                    --jp-widgets-color: white;\n",
       "                    --jp-widgets-label-color: white;\n",
       "                    --jp-ui-font-color1: white;\n",
       "                    --jp-layout-color2: #454545;\n",
       "                    background-color: #383838;\n",
       "                }\n",
       "\n",
       "                .geemap-dark .jupyter-button {\n",
       "                    --jp-layout-color3: #383838;\n",
       "                }\n",
       "\n",
       "                .geemap-colab {\n",
       "                    background-color: var(--colab-primary-surface-color, white);\n",
       "                }\n",
       "\n",
       "                .geemap-colab .jupyter-button {\n",
       "                    --jp-layout-color3: var(--colab-primary-surface-color, white);\n",
       "                }\n",
       "            </style>\n",
       "            "
      ],
      "text/plain": [
       "<IPython.core.display.HTML object>"
      ]
     },
     "metadata": {},
     "output_type": "display_data"
    }
   ],
   "source": [
    "landcover_vis = {}  # Use default visualization\n"
   ]
  },
  {
   "cell_type": "code",
   "execution_count": 65,
   "metadata": {},
   "outputs": [
    {
     "data": {
      "text/html": [
       "\n",
       "            <style>\n",
       "                .geemap-dark {\n",
       "                    --jp-widgets-color: white;\n",
       "                    --jp-widgets-label-color: white;\n",
       "                    --jp-ui-font-color1: white;\n",
       "                    --jp-layout-color2: #454545;\n",
       "                    background-color: #383838;\n",
       "                }\n",
       "\n",
       "                .geemap-dark .jupyter-button {\n",
       "                    --jp-layout-color3: #383838;\n",
       "                }\n",
       "\n",
       "                .geemap-colab {\n",
       "                    background-color: var(--colab-primary-surface-color, white);\n",
       "                }\n",
       "\n",
       "                .geemap-colab .jupyter-button {\n",
       "                    --jp-layout-color3: var(--colab-primary-surface-color, white);\n",
       "                }\n",
       "            </style>\n",
       "            "
      ],
      "text/plain": [
       "<IPython.core.display.HTML object>"
      ]
     },
     "metadata": {},
     "output_type": "display_data"
    },
    {
     "data": {
      "application/vnd.jupyter.widget-view+json": {
       "model_id": "61b3fc8e600747e6ba07eb1f507b4073",
       "version_major": 2,
       "version_minor": 0
      },
      "text/plain": [
       "Map(center=[0, 0], controls=(WidgetControl(options=['position', 'transparent_bg'], widget=SearchDataGUI(childr…"
      ]
     },
     "execution_count": 65,
     "metadata": {},
     "output_type": "execute_result"
    }
   ],
   "source": [
    "Map = geemap.Map()\n",
    "Map.addLayer(esri_landcover, landcover_vis, \"ESRI Land Cover (10m)\")\n",
    "Map\n"
   ]
  },
  {
   "cell_type": "code",
   "execution_count": null,
   "metadata": {},
   "outputs": [],
   "source": []
  }
 ],
 "metadata": {
  "kernelspec": {
   "display_name": "Python 3 (ipykernel)",
   "language": "python",
   "name": "python3"
  },
  "language_info": {
   "codemirror_mode": {
    "name": "ipython",
    "version": 3
   },
   "file_extension": ".py",
   "mimetype": "text/x-python",
   "name": "python",
   "nbconvert_exporter": "python",
   "pygments_lexer": "ipython3",
   "version": "3.10.13"
  }
 },
 "nbformat": 4,
 "nbformat_minor": 4
}
