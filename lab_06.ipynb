{
 "cells": [
  {
   "cell_type": "markdown",
   "id": "7bb7a50b",
   "metadata": {},
   "source": [
    "# Lab 6\n",
    "\n",
    "[![Open In Colab](https://colab.research.google.com/assets/colab-badge.svg)](https://colab.research.google.com/github/fayam1/Geospatial-Data-Management-course/blob/main/lab_06.ipynb)\n",
    "\n",
    "## Submission requirements\n",
    "\n",
    "1. Upload a screenshot of your map for each question.\n",
    "2. Provide a link to your notebook on Colab. See instructions [here](https://geog-414.gishub.org/book/labs/instructions.html)."
   ]
  },
  {
   "cell_type": "markdown",
   "id": "24da26d8",
   "metadata": {
    "tags": []
   },
   "source": [
    "## Question 1\n",
    "\n",
    "Create a map to visualize [NOAA GFS Temperature Data](https://developers.google.com/earth-engine/datasets/catalog/NOAA_GFS0P25) and add a color bar and [NOAA logo](https://i.imgur.com/spILFEi.png) to the map. "
   ]
  },
  {
   "cell_type": "code",
   "execution_count": 1,
   "id": "2b983ac8",
   "metadata": {},
   "outputs": [
    {
     "data": {
      "application/vnd.jupyter.widget-view+json": {
       "model_id": "c2faa9ce0edf4f98a930638c00daec21",
       "version_major": 2,
       "version_minor": 0
      },
      "text/plain": [
       "Map(center=[0, 0], controls=(WidgetControl(options=['position', 'transparent_bg'], widget=SearchDataGUI(childr…"
      ]
     },
     "execution_count": 1,
     "metadata": {},
     "output_type": "execute_result"
    }
   ],
   "source": [
    "# Add your code here.\n",
    "import geemap\n",
    "import ee\n",
    "geemap.ee_initialize()\n",
    "dataset = ee.ImageCollection('NOAA/GFS0P25') \\\n",
    "                  .filter(ee.Filter.date('2023-06-01', '2023-06-02'))\n",
    "temperatureAboveGround = dataset.select('temperature_2m_above_ground')\n",
    "visParams = {\n",
    "  'min': -40.0,\n",
    "  'max': 35.0,\n",
    "  'palette': ['blue', 'purple', 'cyan', 'green', 'yellow', 'red'],\n",
    "}\n",
    "map=geemap.Map()\n",
    "map.centerObject(temperatureAboveGround)\n",
    "# Add a logo to the map\n",
    "logo = 'https://i.imgur.com/06lPK8s.png'\n",
    "map.add_image(logo, position='bottomleft',width=80, height=80)\n",
    "# Add GeoJSON data to the map\n",
    "map.addLayer(temperatureAboveGround, visParams, 'Temperature Above Ground')\n",
    "map.add_colorbar(visParams,label='Temperature Above Ground',font_size=8)\n",
    "# Add text to the map\n",
    "text = \"Made by Faissal Bozi\"\n",
    "map.add_text(text, fontsize=20, position='bottomright')\n",
    "map\n"
   ]
  },
  {
   "cell_type": "markdown",
   "id": "e0861fdc",
   "metadata": {},
   "source": [
    "## Question 2\n",
    "\n",
    "**Linked Maps:** Create a 2*2 linked map to visualize the Landsat imagery (`ee.Image('LANDSAT/LE7_TOA_5YEAR/1999_2003')`) with different band combinations."
   ]
  },
  {
   "cell_type": "code",
   "execution_count": 2,
   "id": "0d5e9e98",
   "metadata": {},
   "outputs": [
    {
     "data": {
      "text/html": [
       "\n",
       "            <style>\n",
       "                .geemap-dark {\n",
       "                    --jp-widgets-color: white;\n",
       "                    --jp-widgets-label-color: white;\n",
       "                    --jp-ui-font-color1: white;\n",
       "                    --jp-layout-color2: #454545;\n",
       "                    background-color: #383838;\n",
       "                }\n",
       "\n",
       "                .geemap-dark .jupyter-button {\n",
       "                    --jp-layout-color3: #383838;\n",
       "                }\n",
       "\n",
       "                .geemap-colab {\n",
       "                    background-color: var(--colab-primary-surface-color, white);\n",
       "                }\n",
       "\n",
       "                .geemap-colab .jupyter-button {\n",
       "                    --jp-layout-color3: var(--colab-primary-surface-color, white);\n",
       "                }\n",
       "            </style>\n",
       "            "
      ],
      "text/plain": [
       "<IPython.core.display.HTML object>"
      ]
     },
     "metadata": {},
     "output_type": "display_data"
    },
    {
     "data": {
      "application/vnd.jupyter.widget-view+json": {
       "model_id": "dab8733e313a4e8daa19631de5082f8f",
       "version_major": 2,
       "version_minor": 0
      },
      "text/plain": [
       "GridspecLayout(children=(Output(layout=Layout(grid_area='widget001')), Output(layout=Layout(grid_area='widget0…"
      ]
     },
     "execution_count": 2,
     "metadata": {},
     "output_type": "execute_result"
    }
   ],
   "source": [
    "# Add your code here.\n",
    "import geemap\n",
    "import ee\n",
    "\n",
    "# Initialize the Earth Engine module.\n",
    "geemap.ee_initialize()\n",
    "\n",
    "# Load the Landsat image.\n",
    "image = ee.Image('LANDSAT/LE7_TOA_5YEAR/1999_2003')\n",
    "\n",
    "# Define visualization parameters for different band combinations.\n",
    "vis_params = [\n",
    "    {'bands': ['B3', 'B2', 'B1'], 'min': 0, 'max': 255, 'gamma': 1.4},  # Natural Color (B3/B2/B1)\n",
    "    {'bands': ['B4', 'B3', 'B2'], 'min': 0, 'max': 255, 'gamma': 1.4},  # Color Infrared (B4/B3/B2)\n",
    "    {'bands': ['B5', 'B4', 'B3'], 'min': 0, 'max': 255, 'gamma': 1.4},  # Shortwave Infrared (B5/B4/B3)\n",
    "    {'bands': ['B7', 'B5', 'B4'], 'min': 0, 'max': 255, 'gamma': 1.4},  # SWIR (B7/B5/B4)\n",
    "]\n",
    "\n",
    "# Define labels for each map.\n",
    "labels = [\n",
    "    'Natural Color (B3/B2/B1)',\n",
    "    'Color Infrared (B4/B3/B2)',\n",
    "    'Shortwave Infrared (B5/B4/B3)',\n",
    "    'SWIR (B7/B5/B4)',\n",
    "]\n",
    "\n",
    "\n",
    "\n",
    "# Create a 2x2 linked map.\n",
    "geemap.linked_maps(\n",
    "    rows=2,\n",
    "    cols=2,\n",
    "    height=\"400px\",\n",
    "    center=[36, -119],\n",
    "    zoom=7,\n",
    "    ee_objects=[image, image, image, image],\n",
    "    vis_params=vis_params,\n",
    "    labels=labels,\n",
    "    label_position=\"topright\",\n",
    ")\n",
    "\n",
    "\n"
   ]
  },
  {
   "cell_type": "markdown",
   "id": "16bafba5",
   "metadata": {},
   "source": [
    "## Question 3\n",
    "\n",
    "**Timeseries Inspector:** Create a map with timeseries inspector to visualize [USDA NASS Cropland Data Layers](https://developers.google.com/earth-engine/datasets/catalog/USDA_NASS_CDL) from 2010 to 2022. Add your name and [USDA logo](https://i.imgur.com/tzH2dNr.png) to the map."
   ]
  },
  {
   "cell_type": "code",
   "execution_count": 3,
   "id": "70ddff26",
   "metadata": {},
   "outputs": [
    {
     "data": {
      "text/html": [
       "\n",
       "            <style>\n",
       "                .geemap-dark {\n",
       "                    --jp-widgets-color: white;\n",
       "                    --jp-widgets-label-color: white;\n",
       "                    --jp-ui-font-color1: white;\n",
       "                    --jp-layout-color2: #454545;\n",
       "                    background-color: #383838;\n",
       "                }\n",
       "\n",
       "                .geemap-dark .jupyter-button {\n",
       "                    --jp-layout-color3: #383838;\n",
       "                }\n",
       "\n",
       "                .geemap-colab {\n",
       "                    background-color: var(--colab-primary-surface-color, white);\n",
       "                }\n",
       "\n",
       "                .geemap-colab .jupyter-button {\n",
       "                    --jp-layout-color3: var(--colab-primary-surface-color, white);\n",
       "                }\n",
       "            </style>\n",
       "            "
      ],
      "text/plain": [
       "<IPython.core.display.HTML object>"
      ]
     },
     "metadata": {},
     "output_type": "display_data"
    },
    {
     "data": {
      "application/vnd.jupyter.widget-view+json": {
       "model_id": "285051862c4d4927ab10d43dc4a04c1d",
       "version_major": 2,
       "version_minor": 0
      },
      "text/plain": [
       "Map(center=[40, -100], controls=(WidgetControl(options=['position', 'transparent_bg'], widget=Dropdown(layout=…"
      ]
     },
     "execution_count": 3,
     "metadata": {},
     "output_type": "execute_result"
    }
   ],
   "source": [
    "import ee\n",
    "import geemap\n",
    "\n",
    "# Initialize Earth Engine\n",
    "ee.Initialize()\n",
    "\n",
    "# Create a map centered on the United States\n",
    "map1 = geemap.Map(center=[40, -100], zoom=4)\n",
    "\n",
    "# Load the Cropland Data Layers from USDA NASS from 2010 to 2022\n",
    "collection = ee.ImageCollection('USDA/NASS/CDL').filterDate('2010-01-01', '2023-01-01')\n",
    "\n",
    "# Visualize the land cover\n",
    "vis_params = {'bands': ['cropland']}\n",
    "years = collection.aggregate_array('system:index').getInfo()\n",
    "\n",
    "# Create the timeseries inspector\n",
    "map1.ts_inspector(\n",
    "    left_ts=collection,\n",
    "    right_ts=collection,\n",
    "    left_names=years,\n",
    "    right_names=years,\n",
    "    left_vis=vis_params,\n",
    "    right_vis=vis_params,\n",
    "    width='80px',\n",
    ")\n",
    "# Add a logo to the map\n",
    "logo = 'https://i.imgur.com/tzH2dNr.png'\n",
    "map1.add_image(logo, position='bottomleft',width=80, height=80)\n",
    "text = \"Made by Faissal Bozi\"\n",
    "map1.add_text(text, fontsize=20, position='bottomright')\n",
    "# Display the map\n",
    "map1\n"
   ]
  },
  {
   "cell_type": "markdown",
   "id": "34534418",
   "metadata": {},
   "source": [
    "## Question 4\n",
    "\n",
    "**Time slider:** Create a map with the time slider to visualize [Sentinel-2](https://developers.google.com/earth-engine/datasets/catalog/COPERNICUS_S2_SR) for Knoxville, TN."
   ]
  },
  {
   "cell_type": "code",
   "execution_count": 4,
   "id": "6f5fc7b3",
   "metadata": {},
   "outputs": [
    {
     "data": {
      "text/html": [
       "\n",
       "            <style>\n",
       "                .geemap-dark {\n",
       "                    --jp-widgets-color: white;\n",
       "                    --jp-widgets-label-color: white;\n",
       "                    --jp-ui-font-color1: white;\n",
       "                    --jp-layout-color2: #454545;\n",
       "                    background-color: #383838;\n",
       "                }\n",
       "\n",
       "                .geemap-dark .jupyter-button {\n",
       "                    --jp-layout-color3: #383838;\n",
       "                }\n",
       "\n",
       "                .geemap-colab {\n",
       "                    background-color: var(--colab-primary-surface-color, white);\n",
       "                }\n",
       "\n",
       "                .geemap-colab .jupyter-button {\n",
       "                    --jp-layout-color3: var(--colab-primary-surface-color, white);\n",
       "                }\n",
       "            </style>\n",
       "            "
      ],
      "text/plain": [
       "<IPython.core.display.HTML object>"
      ]
     },
     "metadata": {},
     "output_type": "display_data"
    },
    {
     "data": {
      "application/vnd.jupyter.widget-view+json": {
       "model_id": "624584a0b2cb4251800adcf4dd4da630",
       "version_major": 2,
       "version_minor": 0
      },
      "text/plain": [
       "Map(center=[35.96060000000001, -83.9207], controls=(WidgetControl(options=['position', 'transparent_bg'], widg…"
      ]
     },
     "execution_count": 4,
     "metadata": {},
     "output_type": "execute_result"
    }
   ],
   "source": [
    "# Add your code here.\n",
    "import ee\n",
    "import geemap\n",
    "\n",
    "# Initialize Earth Engine\n",
    "ee.Initialize()\n",
    "\n",
    "# Create a map\n",
    "map2 = geemap.Map()\n",
    "\n",
    "# Define the region of interest (Knoxville, TN)\n",
    "roi = ee.Geometry.Point(-83.9207, 35.9606)\n",
    "\n",
    "# Load Sentinel-2 imagery\n",
    "collection = ee.ImageCollection('COPERNICUS/S2_SR') \\\n",
    "    .filterBounds(roi) \\\n",
    "    .filterDate('2022-01-01', '2022-12-31') \\\n",
    "    .filter(ee.Filter.lt('CLOUDY_PIXEL_PERCENTAGE',5))\n",
    "\n",
    "# Define visualization parameters\n",
    "vis_params = {\n",
    "    'bands': ['B8', 'B3', 'B2'],  # False color visualization\n",
    "    'min': 0,\n",
    "    'max': 3000,\n",
    "}\n",
    "\n",
    "# Add the time slider to the map\n",
    "map2.add_time_slider(collection, vis_params, time_interval=2)\n",
    "text = \"Made by Faissal Bozi\"\n",
    "map2.add_text(text, fontsize=20, position='bottomright')\n",
    "# Center the map on Knoxville, TN\n",
    "map2.centerObject(roi, zoom=12)\n",
    "\n",
    "# Display the map\n",
    "map2\n"
   ]
  },
  {
   "cell_type": "markdown",
   "id": "219e74b2",
   "metadata": {},
   "source": [
    "## Question 5\n",
    "\n",
    "**Split-panel Map:** Use the following datasets to create a split-panel map for visualizing the ESA land cover data in the US. Add the ESA land cover legend to the map (Hint: the built-in legend for ESA land cover is `ESA_WorldCover`).\n",
    "\n",
    "- [US Census States](https://developers.google.com/earth-engine/datasets/catalog/TIGER_2018_States): `ee.FeatureCollection(\"TIGER/2018/States\")`\n",
    "- [ESA WorldCover 10m](https://developers.google.com/earth-engine/datasets/catalog/ESA_WorldCover_v100): `ee.ImageCollection(\"ESA/WorldCover/v100\")`\n",
    "- Landsat: `LANDSAT/LE7_TOA_5YEAR/1999_2003`\n"
   ]
  },
  {
   "cell_type": "markdown",
   "id": "bae89e8b",
   "metadata": {},
   "source": [
    "Currently, the split-map control of ipyleaflet plotting backend has a bug ([source](https://github.com/jupyter-widgets/ipyleaflet/issues/1066)). Use the folium plotting backend instead."
   ]
  },
  {
   "cell_type": "code",
   "execution_count": 17,
   "id": "9cc6d502-39c9-4870-8938-64b5eede7a29",
   "metadata": {},
   "outputs": [
    {
     "data": {
      "text/html": [
       "\n",
       "            <style>\n",
       "                .geemap-dark {\n",
       "                    --jp-widgets-color: white;\n",
       "                    --jp-widgets-label-color: white;\n",
       "                    --jp-ui-font-color1: white;\n",
       "                    --jp-layout-color2: #454545;\n",
       "                    background-color: #383838;\n",
       "                }\n",
       "\n",
       "                .geemap-dark .jupyter-button {\n",
       "                    --jp-layout-color3: #383838;\n",
       "                }\n",
       "\n",
       "                .geemap-colab {\n",
       "                    background-color: var(--colab-primary-surface-color, white);\n",
       "                }\n",
       "\n",
       "                .geemap-colab .jupyter-button {\n",
       "                    --jp-layout-color3: var(--colab-primary-surface-color, white);\n",
       "                }\n",
       "            </style>\n",
       "            "
      ],
      "text/plain": [
       "<IPython.core.display.HTML object>"
      ]
     },
     "metadata": {},
     "output_type": "display_data"
    },
    {
     "data": {
      "application/vnd.jupyter.widget-view+json": {
       "model_id": "ee6a4f43d6ad4717b73ab9a7a4c2f3d8",
       "version_major": 2,
       "version_minor": 0
      },
      "text/plain": [
       "Map(center=[38, -100], controls=(ZoomControl(options=['position', 'zoom_in_text', 'zoom_in_title', 'zoom_out_t…"
      ]
     },
     "execution_count": 17,
     "metadata": {},
     "output_type": "execute_result"
    }
   ],
   "source": [
    "import ee\n",
    "import geemap\n",
    "\n",
    "# Initialize Earth Engine\n",
    "ee.Initialize()\n",
    "# Load the US Census States boundary\n",
    "states = ee.FeatureCollection(\"TIGER/2018/States\")\n",
    "#states\n",
    "# Load the ESA WorldCover dataset\n",
    "dataset =ee.ImageCollection(\"ESA/WorldCover/v100\").first()\n",
    "dataset1=dataset.clip(states)\n",
    "# Load the Landsat imagery for reference\n",
    "image = (ee.Image(\"LANDSAT/LE7_TOA_5YEAR/1999_2003\"))\n",
    "image1=image.clip(states)\n",
    "# Visualization parameters for the Landsat imagery\n",
    "vis_params_landsat = {\n",
    "    'bands': ['B4', 'B2', 'B1'],\n",
    "    'min': 0,\n",
    "    'max': 255,\n",
    "    'gamma': 1.4\n",
    "}\n",
    "\n",
    "# Visualization parameters for the ESA WorldCover dataset\n",
    "vis_params_worldcover = {'bands': ['Map']}\n",
    "\n",
    "# Create a map object\n",
    "Map = geemap.Map(center=[38,-100],zoom=4)\n",
    "\n",
    "# Convert the Earth Engine images to Tile Layers\n",
    "left_layer = geemap.ee_tile_layer(image1, vis_params_landsat, 'Landsat')\n",
    "right_layer = geemap.ee_tile_layer(dataset1, vis_params_worldcover, 'WorldCover')\n",
    "\n",
    "#Split map view to compare Landsat imagery and ESA WorldCover dataset\n",
    "Map.split_map(left_layer, right_layer)\n",
    "#Map.centerObject(states,zoom=4)\n",
    "text = \"Made by Faissal Bozi\"\n",
    "Map.add_text(text, fontsize=20, position='bottomright')\n",
    "# Display the map\n",
    "Map.add_legend(\n",
    "    title=\"EASA Land Cover\", builtin_legend='ESA_WorldCover', height='250px'\n",
    ")\n",
    "\n",
    "Map\n"
   ]
  },
  {
   "cell_type": "code",
   "execution_count": null,
   "id": "a347544f-ff46-48b1-bf47-f3030e815bb7",
   "metadata": {},
   "outputs": [],
   "source": []
  }
 ],
 "metadata": {
  "kernelspec": {
   "display_name": "Python 3 (ipykernel)",
   "language": "python",
   "name": "python3"
  },
  "language_info": {
   "codemirror_mode": {
    "name": "ipython",
    "version": 3
   },
   "file_extension": ".py",
   "mimetype": "text/x-python",
   "name": "python",
   "nbconvert_exporter": "python",
   "pygments_lexer": "ipython3",
   "version": "3.11.9"
  }
 },
 "nbformat": 4,
 "nbformat_minor": 5
}
