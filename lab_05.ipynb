{
 "cells": [
  {
   "cell_type": "markdown",
   "id": "aa62ee70",
   "metadata": {},
   "source": [
    "# Lab 5\n",
    "\n",
    "[![Open In Colab](https://colab.research.google.com/assets/colab-badge.svg)](https://colab.research.google.com/github/fayam1/Geospatial-Data-Management-course/blob/main/lab_05.ipynb)\n",
    "\n",
    "## Submission requirements\n",
    "\n",
    "1. Upload a screenshot of your map for each question.\n",
    "2. Provide a link to your notebook on Colab. See instructions [here](https://geog-414.gishub.org/book/labs/instructions.html)."
   ]
  },
  {
   "cell_type": "markdown",
   "id": "8c0987e8",
   "metadata": {
    "tags": []
   },
   "source": [
    "## Question 1\n",
    "\n",
    "Visualize the [USGS Watershed Boundary Dataset](https://developers.google.com/earth-engine/datasets/catalog/USGS_WBD_2017_HUC04) with outline color only, no fill color."
   ]
  },
  {
   "cell_type": "code",
   "execution_count": 2,
   "id": "8861263d",
   "metadata": {},
   "outputs": [
    {
     "data": {
      "text/html": [
       "\n",
       "            <style>\n",
       "                .geemap-dark {\n",
       "                    --jp-widgets-color: white;\n",
       "                    --jp-widgets-label-color: white;\n",
       "                    --jp-ui-font-color1: white;\n",
       "                    --jp-layout-color2: #454545;\n",
       "                    background-color: #383838;\n",
       "                }\n",
       "\n",
       "                .geemap-dark .jupyter-button {\n",
       "                    --jp-layout-color3: #383838;\n",
       "                }\n",
       "\n",
       "                .geemap-colab {\n",
       "                    background-color: var(--colab-primary-surface-color, white);\n",
       "                }\n",
       "\n",
       "                .geemap-colab .jupyter-button {\n",
       "                    --jp-layout-color3: var(--colab-primary-surface-color, white);\n",
       "                }\n",
       "            </style>\n",
       "            "
      ],
      "text/plain": [
       "<IPython.core.display.HTML object>"
      ]
     },
     "metadata": {},
     "output_type": "display_data"
    },
    {
     "data": {
      "application/vnd.jupyter.widget-view+json": {
       "model_id": "b366ad19eb66433eaa359e31d4c45544",
       "version_major": 2,
       "version_minor": 0
      },
      "text/plain": [
       "Map(center=[40, -100], controls=(WidgetControl(options=['position', 'transparent_bg'], widget=SearchDataGUI(ch…"
      ]
     },
     "execution_count": 2,
     "metadata": {},
     "output_type": "execute_result"
    }
   ],
   "source": [
    "# Add your code here.\n",
    "import geemap\n",
    "import ee\n",
    "geemap.ee_initialize()\n",
    "# Load the USGS watershed  \n",
    "fc=ee.FeatureCollection(\"USGS/WBD/2017/HUC04\")\n",
    "# Define the styling for the outline (no fill)\n",
    "style = {\n",
    "    'color': 'blue',  # Outline color\n",
    "    'fillColor': '00000000',  # Transparent fill color\n",
    "    'width': 2  # Outline width\n",
    "}\n",
    "map=geemap.Map(center=[40,-100],zoom=4)\n",
    "#Add text and layers\n",
    "text = \"Made by Faissal Bozi\"\n",
    "map.add_text(text, fontsize=20, position='bottomright')\n",
    "map.addLayer(fc.style(**style),{},'Watershed Boundary')\n",
    "map"
   ]
  },
  {
   "cell_type": "markdown",
   "id": "68fe0bf3",
   "metadata": {},
   "source": [
    "## Question 2 \n",
    "\n",
    "Filter the USGS Watershed Boundary dataset and select the watershed that intersects the county of your choice."
   ]
  },
  {
   "cell_type": "code",
   "execution_count": null,
   "id": "b9a7201b",
   "metadata": {},
   "outputs": [],
   "source": [
    "# Add your code here.\n",
    "counties = ee.FeatureCollection(\"TIGER/2018/Counties\")\n",
    "\n",
    "# Filter counties by name \"Knox\" and STATEFP=18\n",
    "Knox= counties.filter(ee.Filter.And\n",
    "                                (ee.Filter.eq('NAME','Knox'),\n",
    "                                 ee.Filter.eq('STATEFP','18')\n",
    "                                ))\n",
    "# Filter the watershed boundary that intersects Knox county boundary and merge the results using dissolve()\n",
    "Knoxwb = (ee.FeatureCollection('USGS/WBD/2017/HUC06')\\\n",
    "                          .filter(ee.Filter\\\n",
    "                                  .intersects('.geo',Knox.geometry()))\\\n",
    "                                  .geometry().dissolve())\n",
    "                           \n",
    "                                 \n",
    "map1=geemap.Map()\n",
    "#Add text and layers\n",
    "text = \"Made by Faissal Bozi\"\n",
    "map1.add_text(text, fontsize=20, position='bottomright')\n",
    "map1.addLayer(fc.style(**style),{},'Watershed Boundary')\n",
    "map1.addLayer(Knoxwb,{'color':'lightblue'},'Knox County Watersheds')\n",
    "map1.addLayer(Knox,{'color':'red'},'Knox County')\n",
    "map1.centerObject(Knoxwb)\n",
    "map1"
   ]
  },
  {
   "cell_type": "markdown",
   "id": "180ee246",
   "metadata": {},
   "source": [
    "## Question 3\n",
    "\n",
    "Clip the [USGS 3DEP 10m DEM](https://developers.google.com/earth-engine/datasets/catalog/USGS_3DEP_10m) with the watershed that intersects the county of your choice. Display the DEM with a proper color palette and color bar."
   ]
  },
  {
   "cell_type": "code",
   "execution_count": null,
   "id": "bcaf1d8c",
   "metadata": {},
   "outputs": [],
   "source": [
    "# Add your code here.\n",
    "import geemap\n",
    "import ee\n",
    "\n",
    "# Initialize Earth Engine\n",
    "ee.Initialize()\n",
    "\n",
    "# Load the USGS 3DEP 10m DEM\n",
    "dem = ee.Image('USGS/3DEP/10m')\n",
    "\n",
    "# Load the US Census Counties dataset\n",
    "counties = ee.FeatureCollection(\"TIGER/2018/Counties\")\n",
    "\n",
    "# Filter for Knox County, Indiana\n",
    "knox_county = counties.filter(ee.Filter.And(\n",
    "    ee.Filter.eq('NAME', 'Knox'),\n",
    "    ee.Filter.eq('STATEFP', '18')\n",
    "))\n",
    "\n",
    "# Find the watershed that intersects with Knox County\n",
    "Knox_watershed =( ee.FeatureCollection('USGS/WBD/2017/HUC06') \\\n",
    "    .filter(ee.Filter.intersects('.geo', knox_county.geometry()))).geometry().dissolve()\n",
    "\n",
    "# Clip the DEM with the intersecting watershed\n",
    "clipped_dem = dem.clip(intersecting_watershed)\n",
    "\n",
    "# Define visualization parameters\n",
    "vis_params = {\n",
    "    'min': 0,\n",
    "    'max': 400,\n",
    "    'palette': ['blue', 'cyan', 'green', 'yellow', 'red']\n",
    "}\n",
    "\n",
    "# Create a map centered on the clipped DEM\n",
    "map2 = geemap.Map()\n",
    "\n",
    "# Add the clipped DEM to the map and Knox_watershed\n",
    "\n",
    "map2.addLayer(Knox_watershed, {'color': 'red', 'fillOpacity': 0.0, 'fillColor': '#00000000', 'width': 2}, 'Knox watershed')\n",
    "\n",
    "map2.addLayer(clipped_dem, vis_params, 'Clipped DEM')\n",
    "\n",
    "text = \"Made by Faissal Bozi\"\n",
    "map2.add_text(text, fontsize=20, position='bottomright')\n",
    "# Add a color bar legend\n",
    "map2.add_colorbar(vis_params,orientation=\"vertical\", label=\"Elevation (m)\",font_size=8)\n",
    "map2.centerObject(Knox_watershed)\n",
    "\n",
    "# Display the map\n",
    "map2\n"
   ]
  },
  {
   "cell_type": "markdown",
   "id": "0fd52b4c",
   "metadata": {},
   "source": [
    "## Question 4\n",
    "\n",
    "Use the [USGS National Land Cover Database](https://developers.google.com/earth-engine/datasets/catalog/USGS_NLCD_RELEASES_2019_REL_NLCD) and [US Census States](https://developers.google.com/earth-engine/datasets/catalog/TIGER_2018_States) to create a split-panel map for visualizing land cover change (2001-2019) for a US state of your choice. Make sure you add the NLCD legend to the map."
   ]
  },
  {
   "cell_type": "code",
   "execution_count": null,
   "id": "f08372c1",
   "metadata": {},
   "outputs": [],
   "source": [
    "# Add your code here.\n",
    "# Load the NLCD datasets for 2001 and 2019 and select the land cover band\n",
    "ncld2001=ee.Image('USGS/NLCD_RELEASES/2019_REL/NLCD/2001').select('landcover')\n",
    "ncld2019=ee.Image('USGS/NLCD_RELEASES/2019_REL/NLCD/2019').select('landcover')\n",
    "# Load the US Census States dataset\n",
    "states=ee.FeatureCollection(\"TIGER/2018/States\")\n",
    "california_state=states.filter(ee.Filter.eq('NAME','California'))\n",
    "\n",
    "# Clip the NLCD datasets to the California boundary\n",
    "ncld2001_clip = ncld2001.clip(california_state.geometry())\n",
    "ncld2019_clip =ncld2019.clip(california_state.geometry())\n",
    "\n",
    "map3=geemap.Map()\n",
    "# Create tile layers for the split map\n",
    "left_layer=geemap.ee_tile_layer(ncld2001_clip,{},'2001 Land Cover')\n",
    "right_layer=geemap.ee_tile_layer(ncld2019_clip,{},'2019 Land Cover')                                \n",
    " # Add the split map layers                               \n",
    "map3.split_map(left_layer,right_layer,add_close_button=True)\n",
    "# Add the California state boundary to both panels\n",
    "map3.addLayer(california_state.style(color='red', fillColor='00000000', width=2),{},'California State')\n",
    "map3.centerObject(california_state)\n",
    "#Add text\n",
    "text = \"Made by Faissal Bozi\"\n",
    "map3.add_text(text, fontsize=20, position='bottomleft')\n",
    "# Add the NLCD legend\n",
    "map3.add_legend(builtin_legend='NLCD',position='bottomright')\n",
    "map3\n"
   ]
  },
  {
   "cell_type": "markdown",
   "id": "581ea135",
   "metadata": {},
   "source": [
    "## Questions 5\n",
    "\n",
    "Download OpenStreetMap data for a city of your choice and visualize the city boundary and restaurants in the city."
   ]
  },
  {
   "cell_type": "code",
   "execution_count": 9,
   "id": "5dd09f3a-cf2b-40db-90af-16e5a9dc0a54",
   "metadata": {},
   "outputs": [
    {
     "data": {
      "text/html": [
       "\n",
       "            <style>\n",
       "                .geemap-dark {\n",
       "                    --jp-widgets-color: white;\n",
       "                    --jp-widgets-label-color: white;\n",
       "                    --jp-ui-font-color1: white;\n",
       "                    --jp-layout-color2: #454545;\n",
       "                    background-color: #383838;\n",
       "                }\n",
       "\n",
       "                .geemap-dark .jupyter-button {\n",
       "                    --jp-layout-color3: #383838;\n",
       "                }\n",
       "\n",
       "                .geemap-colab {\n",
       "                    background-color: var(--colab-primary-surface-color, white);\n",
       "                }\n",
       "\n",
       "                .geemap-colab .jupyter-button {\n",
       "                    --jp-layout-color3: var(--colab-primary-surface-color, white);\n",
       "                }\n",
       "            </style>\n",
       "            "
      ],
      "text/plain": [
       "<IPython.core.display.HTML object>"
      ]
     },
     "metadata": {},
     "output_type": "display_data"
    },
    {
     "data": {
      "application/vnd.jupyter.widget-view+json": {
       "model_id": "7afbee95b16e427492f85bc239a6e72e",
       "version_major": 2,
       "version_minor": 0
      },
      "text/plain": [
       "Map(center=[35.9606, -83.9207], controls=(WidgetControl(options=['position', 'transparent_bg'], widget=SearchD…"
      ]
     },
     "execution_count": 9,
     "metadata": {},
     "output_type": "execute_result"
    }
   ],
   "source": [
    "import geemap\n",
    "import geemap.osm as osm\n",
    "\n",
    "# Retrieve geographical data for Knoxville\n",
    "gdf_knoxville = geemap.osm_to_gdf(\"Knoxville, Tennessee\")\n",
    "fc = geemap.osm_to_ee(\"Knoxville, Tennessee\")\n",
    "# Define a bounding box around Knoxville to ensure all data within this area is captured\n",
    "minx, miny, maxx, maxy = gdf_knoxville.total_bounds  # [minx, miny, maxx, maxy]\n",
    "# Retrieve restaurant data within the bounding box using geemap\n",
    "gdf_restaurants = osm.osm_gdf_from_bbox(\n",
    "    north=maxy, south=miny, east=maxx, west=minx, tags={\"amenity\": \"restaurant\"}\n",
    ")\n",
    "\n",
    "# Create a map centered on Knoxville\n",
    "map4 = geemap.Map(center=[35.9606, -83.9207], zoom=9)\n",
    "\n",
    "# Add geographical data to the map with a layer name 'Knoxville'\n",
    "#map4.add_gdf(gdf_knoxville, 'Knoxville')\n",
    "map4.addLayer(fc,{},'Knoxville')\n",
    "text = \"Made by Faissal Bozi\"\n",
    "map4.add_text(text, fontsize=20, position='bottomright')\n",
    "# Add restaurant data to the map with a layer name 'Restaurants'\n",
    "map4.add_gdf(gdf_restaurants, 'Restaurants')\n",
    "\n",
    "# Display the map\n",
    "map4\n"
   ]
  },
  {
   "cell_type": "code",
   "execution_count": null,
   "id": "810911f1-ad54-47b9-a6b2-621d83ed0af1",
   "metadata": {},
   "outputs": [],
   "source": []
  }
 ],
 "metadata": {
  "kernelspec": {
   "display_name": "Python 3 (ipykernel)",
   "language": "python",
   "name": "python3"
  },
  "language_info": {
   "codemirror_mode": {
    "name": "ipython",
    "version": 3
   },
   "file_extension": ".py",
   "mimetype": "text/x-python",
   "name": "python",
   "nbconvert_exporter": "python",
   "pygments_lexer": "ipython3",
   "version": "3.11.9"
  }
 },
 "nbformat": 4,
 "nbformat_minor": 5
}
