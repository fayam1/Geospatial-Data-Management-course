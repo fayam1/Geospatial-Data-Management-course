


#pip installl pygis


import ee
import geemap


geemap.ee_initialize()





image=ee.Image('USGS/SRTMGL1_003')



image


image.getInfo()





map=geemap.Map(center=[35,39],zoom=6.5)
image=ee.Image('USGS/SRTMGL1_003')
vis={'min': 0,
     'max': 6000,
     'palette':  ['006633', 'E5FFCC', '662A00', 'D8D8D8', 'F5F5F5'],
 }
map.addLayer(image,vis,'SRTM')    
map





import geemap
import ee
geemap.ee_initialize()

map=geemap.Map()
URL='https://bit.ly/3aSZ0fH'
image=geemap.load_GeoTIFF(URL)
vis={'min': 3000,
     'max': 13500,
     "bands": ["B3","B2","B1"],
    }
map.addLayer(image,vis,'Cloud GeoTIFF')
map.centerObject(image)
map
             





collection = ee.ImageCollection('COPERNICUS/S2_SR')
collection.limit(5)









ee.Initialize()
map=geemap.Map(center=[35,38],zoom=7)
collection=ee.ImageCollection('COPERNICUS/S2_HARMONIZED')
image=collection.median()
vis={'min': 0,
     'max':3000 ,
     'bands': ['B4' , 'B3', 'B2'],
    }
map.addLayer(image, vis, 'Sentinel-2')
map






map=geemap.Map(center=[35,39],zoom=7)
collection=( ee.ImageCollection('COPERNICUS/S2_HARMONIZED')
            .filterDate('2024-02-01','2024-04-30')
            .filter(ee.Filter.lt('CLOUDY_PIXEL_PERCENTAGE',10)))
image=collection.median()
vis={'min':0.0,
     'max':3000,
     'bands':['B4','B3','B2'],
    }
map.addLayer(image,vis,'Sentenal-2')
map

                    






map=geemap.Map(center=[35,38],zoom=7)
point1=ee.Geometry.Point(38,35)
point2=ee.Geometry.Point([38.5,36])
line=ee.Geometry.LineString([[38,35],[38.5,36]])
map.addLayer(point1)
map.addLayer(point2)
map.addLayer(line)
map



