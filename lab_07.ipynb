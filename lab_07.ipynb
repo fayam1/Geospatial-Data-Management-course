{
 "cells": [
  {
   "cell_type": "markdown",
   "id": "b5277e4d",
   "metadata": {},
   "source": [
    "# Lab 7\n",
    "\n",
    "[![Open In Colab](https://colab.research.google.com/assets/colab-badge.svg)](https://colab.research.google.com/github/fayam1/Geospatial-Data-Management-course/blob/main/lab_07.ipynb)\n",
    "\n",
    "## Submission requirements\n",
    "\n",
    "1. Upload a screenshot of your map for each question.\n",
    "2. Provide a link to your notebook on Colab. See instructions [here](https://geog-414.gishub.org/book/labs/instructions.html)."
   ]
  },
  {
   "cell_type": "markdown",
   "id": "6b14e408",
   "metadata": {},
   "source": [
    "## Datasets\n",
    "\n",
    "The datasets being used in the lab are listed below:\n",
    "\n",
    "- [TIGER: US Census Counties](https://developers.google.com/earth-engine/datasets/catalog/TIGER_2018_Counties)\n",
    "- [Landsat-9](https://developers.google.com/earth-engine/datasets/catalog/LANDSAT_LC09_C02_T1_L2)\n",
    "- [Sentinel-2](https://developers.google.com/earth-engine/datasets/catalog/COPERNICUS_S2_SR)\n",
    "- [NAIP](https://developers.google.com/earth-engine/datasets/catalog/USDA_NAIP_DOQQ)"
   ]
  },
  {
   "cell_type": "markdown",
   "id": "8be22173",
   "metadata": {
    "tags": []
   },
   "source": [
    "## Question 1\n",
    "\n",
    "Create a fishnet with a 4-degree interval based on the extent of `[-112.5439, 34.0891, -85.0342, 49.6858]`. Use the fishnet to download the Landsat 7 image tiles by the fishnet using the `geemap.download_ee_image_tiles()` function. Relevant Earth Engine assets:\n",
    "\n",
    "-   `ee.Image('LANDSAT/LE7_TOA_5YEAR/1999_2003')`\n",
    "\n"
   ]
  },
  {
   "cell_type": "code",
   "execution_count": 1,
   "id": "fc23ba11",
   "metadata": {},
   "outputs": [
    {
     "data": {
      "application/vnd.jupyter.widget-view+json": {
       "model_id": "14316c8744a54dd4ad3a2c8cc6a993bf",
       "version_major": 2,
       "version_minor": 0
      },
      "text/plain": [
       "Map(center=[35, -100], controls=(WidgetControl(options=['position', 'transparent_bg'], widget=SearchDataGUI(ch…"
      ]
     },
     "execution_count": 1,
     "metadata": {},
     "output_type": "execute_result"
    }
   ],
   "source": [
    "import geemap\n",
    "import ee\n",
    "\n",
    "# Initialize the Earth Engine API\n",
    "ee.Initialize()\n",
    "\n",
    "# Define the Landsat 7 image\n",
    "image = ee.Image('LANDSAT/LE7_TOA_5YEAR/1999_2003')\n",
    "vis_params = {'bands':['B4','B3','B2'],'min': 0, 'max': 255, 'gamma': 1.4}\n",
    "# Define the extent as an Earth Engine geometry\n",
    "extent = ee.Geometry.BBox(-112.5439, 34.0891, -85.0342, 49.6858)\n",
    "\n",
    "# Create the fishnet\n",
    "fishnet = geemap.fishnet(extent, rows=4, cols=4, delta=0.5)\n",
    "\n",
    "\n",
    "# Optionally visualize the fishnet on the map (if you are using geemap.Map)\n",
    "map = geemap.Map(center=[35,-100], zoom=4)\n",
    "style = {'color': 'ffff00ff', 'fillColor': '00000000'}\n",
    "map.addLayer(image, vis_params, 'Landsat')\n",
    "map.addLayer(fishnet.style(**style), {}, 'Fishnet')\n",
    "text = \"Made by Faissal Bozi\"\n",
    "map.add_text(text, fontsize=20, position='bottomright')\n",
    "map\n"
   ]
  },
  {
   "cell_type": "code",
   "execution_count": null,
   "id": "85836839-e240-4a7f-a4ea-5df519127648",
   "metadata": {},
   "outputs": [],
   "source": [
    "# Define the output directory\n",
    "# I set scale=80 to save time\n",
    "out_dir = 'Downloads'\n",
    "\n",
    "# Download the Landsat 7 image tiles using the fishnet\n",
    "geemap.download_ee_image_tiles(\n",
    "    image, fishnet, out_dir, prefix=\"landsat_\", crs=\"EPSG:3857\", scale=80)"
   ]
  },
  {
   "cell_type": "markdown",
   "id": "edcba547",
   "metadata": {},
   "source": [
    "## Question 2\n",
    "\n",
    "Create annual cloud-free Landsat imagery for the years 2017-2023 for a US county of your choice. Download the images to your computer. \n",
    "\n"
   ]
  },
  {
   "cell_type": "code",
   "execution_count": 73,
   "id": "ea3262da-177a-45ca-a6d7-7617a5019544",
   "metadata": {},
   "outputs": [
    {
     "data": {
      "text/html": [
       "\n",
       "            <style>\n",
       "                .geemap-dark {\n",
       "                    --jp-widgets-color: white;\n",
       "                    --jp-widgets-label-color: white;\n",
       "                    --jp-ui-font-color1: white;\n",
       "                    --jp-layout-color2: #454545;\n",
       "                    background-color: #383838;\n",
       "                }\n",
       "\n",
       "                .geemap-dark .jupyter-button {\n",
       "                    --jp-layout-color3: #383838;\n",
       "                }\n",
       "\n",
       "                .geemap-colab {\n",
       "                    background-color: var(--colab-primary-surface-color, white);\n",
       "                }\n",
       "\n",
       "                .geemap-colab .jupyter-button {\n",
       "                    --jp-layout-color3: var(--colab-primary-surface-color, white);\n",
       "                }\n",
       "            </style>\n",
       "            "
      ],
      "text/plain": [
       "<IPython.core.display.HTML object>"
      ]
     },
     "metadata": {},
     "output_type": "display_data"
    },
    {
     "data": {
      "application/vnd.jupyter.widget-view+json": {
       "model_id": "db24c687d9c4408585a52d2a6c6e7c03",
       "version_major": 2,
       "version_minor": 0
      },
      "text/plain": [
       "Map(center=[38.688923758741744, -87.41827504818303], controls=(WidgetControl(options=['position', 'transparent…"
      ]
     },
     "execution_count": 73,
     "metadata": {},
     "output_type": "execute_result"
    }
   ],
   "source": [
    "import geemap\n",
    "import ee\n",
    "\n",
    "# Initialize the Earth Engine API\n",
    "ee.Initialize()\n",
    "\n",
    "# Load the US Census Counties dataset\n",
    "counties = ee.FeatureCollection(\"TIGER/2018/Counties\")\n",
    "\n",
    "# Filter for Knox County, Indiana\n",
    "knox_county = counties.filter(ee.Filter.And(\n",
    "    ee.Filter.eq('NAME', 'Knox'),\n",
    "    ee.Filter.eq('STATEFP', '18')\n",
    "))\n",
    "\n",
    "geo = knox_county.geometry()\n",
    "\n",
    "style = {\n",
    "    'color': 'blue',  # Outline color\n",
    "    'fillColor': '00000000',  # Transparent fill color\n",
    "    'width': 2  # Outline width\n",
    "}\n",
    "\n",
    "# Applies scaling factors\n",
    "def apply_scale_factors(image):\n",
    "    optical_bands = image.select('SR_B.').multiply(0.0000275).add(-0.2)\n",
    "    thermal_bands = image.select('ST_B.*').multiply(0.00341802).add(149.0)\n",
    "    return image.addBands(optical_bands, None, True).addBands(thermal_bands, None, True)\n",
    "\n",
    "# Create a Landsat 8 ImageCollection with cloud cover less than 5%\n",
    "collection = ee.ImageCollection(\"LANDSAT/LC08/C02/T1_L2\")\\\n",
    "             .filterBounds(knox_county)\\\n",
    "             .filterMetadata(\"CLOUD_COVER\", \"less_than\", 5)\\\n",
    "             .map(apply_scale_factors)\n",
    "\n",
    "# Visualization parameters\n",
    "vis_params = {\n",
    "    'bands': ['SR_B5', 'SR_B4', 'SR_B3'],  # False color  combination\n",
    "    'min': 0.0,\n",
    "    'max': 0.3,\n",
    "    'gamma': 1.8,\n",
    "}\n",
    "\n",
    "# Create the time series\n",
    "ts= geemap.create_timeseries(\n",
    "    collection,\n",
    "    start_date='2017-01-01',\n",
    "    end_date='2023-12-31',\n",
    "    region=geo,\n",
    "    bands=['SR_B5', 'SR_B4', 'SR_B3'],\n",
    "    frequency='year',\n",
    "    reducer='median'\n",
    ")\n",
    "\n",
    "# Function to convert ImageCollection to a list of images\n",
    "def collection_to_list(image_collection):\n",
    "    size = image_collection.size().getInfo()\n",
    "    return image_collection.toList(size)\n",
    "\n",
    "# Convert the ImageCollection to a list\n",
    "ts_list = collection_to_list(ts)\n",
    "\n",
    "# Create a map\n",
    "map1 = geemap.Map()\n",
    "\n",
    "# Add each image in the time series to the map\n",
    "for i in range(ts.size().getInfo()):\n",
    "    image = ee.Image(ts_list.get(i))\n",
    "    year = 2017 + i\n",
    "    map1.addLayer(image, vis_params, f'Knox County {year}')\n",
    "\n",
    "# Display the map\n",
    "map1.centerObject(geo, 10)\n",
    "map1.addLayer(knox_county .style(**style),{},'Knox County')\n",
    "map1.addLayerControl()  # This will add a layer control panel to the map\n",
    "#Add text\n",
    "text = \"Made by Faissal Bozi\"\n",
    "map1.add_text(text, fontsize=20, position='bottomright')\n",
    "map1\n"
   ]
  },
  {
   "cell_type": "code",
   "execution_count": 91,
   "id": "c5665b11-1321-46a4-8c15-b06c2b639dc7",
   "metadata": {},
   "outputs": [
    {
     "data": {
      "text/html": [
       "\n",
       "            <style>\n",
       "                .geemap-dark {\n",
       "                    --jp-widgets-color: white;\n",
       "                    --jp-widgets-label-color: white;\n",
       "                    --jp-ui-font-color1: white;\n",
       "                    --jp-layout-color2: #454545;\n",
       "                    background-color: #383838;\n",
       "                }\n",
       "\n",
       "                .geemap-dark .jupyter-button {\n",
       "                    --jp-layout-color3: #383838;\n",
       "                }\n",
       "\n",
       "                .geemap-colab {\n",
       "                    background-color: var(--colab-primary-surface-color, white);\n",
       "                }\n",
       "\n",
       "                .geemap-colab .jupyter-button {\n",
       "                    --jp-layout-color3: var(--colab-primary-surface-color, white);\n",
       "                }\n",
       "            </style>\n",
       "            "
      ],
      "text/plain": [
       "<IPython.core.display.HTML object>"
      ]
     },
     "metadata": {},
     "output_type": "display_data"
    },
    {
     "name": "stdout",
     "output_type": "stream",
     "text": [
      "Generating URL ...\n",
      "Downloading data from https://earthengine.googleapis.com/v1/projects/earthengine-legacy/thumbnails/6b3759579fb4c9649215fb661b3325b6-9de5907034d9cc3d1ba030afa3c5ba0b:getPixels\n",
      "Please wait ...\n",
      "Data downloaded to C:\\Users\\musao\\Desktop\\Data management using google earth engine\\Geospatial-Data-Management-course\\Landsat_Knox_County_2017.tif\n",
      "Generating URL ...\n",
      "Downloading data from https://earthengine.googleapis.com/v1/projects/earthengine-legacy/thumbnails/0dc425ae2eb82187ae9be95ab2844864-b3ac415362aedc2f2b7a6ad70e70fc1b:getPixels\n",
      "Please wait ...\n",
      "Data downloaded to C:\\Users\\musao\\Desktop\\Data management using google earth engine\\Geospatial-Data-Management-course\\Landsat_Knox_County_2018.tif\n",
      "Generating URL ...\n",
      "Downloading data from https://earthengine.googleapis.com/v1/projects/earthengine-legacy/thumbnails/c3e4fb7277060f058a21e9292bd6ef12-90576d280d34c53aa457bed848faedc9:getPixels\n",
      "Please wait ...\n",
      "Data downloaded to C:\\Users\\musao\\Desktop\\Data management using google earth engine\\Geospatial-Data-Management-course\\Landsat_Knox_County_2019.tif\n",
      "Generating URL ...\n",
      "Downloading data from https://earthengine.googleapis.com/v1/projects/earthengine-legacy/thumbnails/67ad4f33f29e8b57ec531e88c35de4c6-6f4122f118b36ae0ca8c00e4f4df1b60:getPixels\n",
      "Please wait ...\n",
      "Data downloaded to C:\\Users\\musao\\Desktop\\Data management using google earth engine\\Geospatial-Data-Management-course\\Landsat_Knox_County_2020.tif\n",
      "Generating URL ...\n",
      "Downloading data from https://earthengine.googleapis.com/v1/projects/earthengine-legacy/thumbnails/bc93ea2487f49f83b8567c096e55a646-ca3d4b78b319e3dfe7d60b990635fcc9:getPixels\n",
      "Please wait ...\n",
      "Data downloaded to C:\\Users\\musao\\Desktop\\Data management using google earth engine\\Geospatial-Data-Management-course\\Landsat_Knox_County_2021.tif\n",
      "Generating URL ...\n",
      "Downloading data from https://earthengine.googleapis.com/v1/projects/earthengine-legacy/thumbnails/d63552a2b1242423f56aeac3af468db3-43fee4a2ab2b272c7f8993b4dd7d9325:getPixels\n",
      "Please wait ...\n",
      "Data downloaded to C:\\Users\\musao\\Desktop\\Data management using google earth engine\\Geospatial-Data-Management-course\\Landsat_Knox_County_2022.tif\n",
      "Generating URL ...\n",
      "Downloading data from https://earthengine.googleapis.com/v1/projects/earthengine-legacy/thumbnails/906347ba09d51487636c0cfade53fd8d-7d665f16baffbeff88e831d55f5ce087:getPixels\n",
      "Please wait ...\n",
      "Data downloaded to C:\\Users\\musao\\Desktop\\Data management using google earth engine\\Geospatial-Data-Management-course\\Landsat_Knox_County_2023.tif\n",
      "Images saved successfully.\n"
     ]
    }
   ],
   "source": [
    "# Export each image in the time series\n",
    "for i in range(ts.size().getInfo()):\n",
    "    image = ee.Image(ts_list.get(i))\n",
    "    year = 2017 + i\n",
    "    out_file = f'Landsat_Knox_County_{year}.tif'\n",
    "    geemap.ee_export_image(image.clip(geo), filename=out_file, scale=80, region=geo)\n",
    "\n",
    "print(\"Images saved successfully.\")"
   ]
  },
  {
   "cell_type": "markdown",
   "id": "b7f17c1f",
   "metadata": {},
   "source": [
    "## Question 3\n",
    "\n",
    "Create annual cloud-free Sentinel-2 imagery for the years 2017-2023 for a US county of your choice. Download the images to your computer. You can download a coarse resolution image to speed up the download process. Narrow down the date range (e.g., summer months) to reduce the number of images, which can avoid memory errors.\n"
   ]
  },
  {
   "cell_type": "code",
   "execution_count": 92,
   "id": "01937f72-1dbf-4bca-8b90-f26e1c1fe722",
   "metadata": {},
   "outputs": [
    {
     "data": {
      "text/html": [
       "\n",
       "            <style>\n",
       "                .geemap-dark {\n",
       "                    --jp-widgets-color: white;\n",
       "                    --jp-widgets-label-color: white;\n",
       "                    --jp-ui-font-color1: white;\n",
       "                    --jp-layout-color2: #454545;\n",
       "                    background-color: #383838;\n",
       "                }\n",
       "\n",
       "                .geemap-dark .jupyter-button {\n",
       "                    --jp-layout-color3: #383838;\n",
       "                }\n",
       "\n",
       "                .geemap-colab {\n",
       "                    background-color: var(--colab-primary-surface-color, white);\n",
       "                }\n",
       "\n",
       "                .geemap-colab .jupyter-button {\n",
       "                    --jp-layout-color3: var(--colab-primary-surface-color, white);\n",
       "                }\n",
       "            </style>\n",
       "            "
      ],
      "text/plain": [
       "<IPython.core.display.HTML object>"
      ]
     },
     "metadata": {},
     "output_type": "display_data"
    },
    {
     "data": {
      "application/vnd.jupyter.widget-view+json": {
       "model_id": "1c55af44d470411cbcab45abecdc0bc3",
       "version_major": 2,
       "version_minor": 0
      },
      "text/plain": [
       "Map(center=[38.688923758741744, -87.41827504818303], controls=(WidgetControl(options=['position', 'transparent…"
      ]
     },
     "execution_count": 92,
     "metadata": {},
     "output_type": "execute_result"
    }
   ],
   "source": [
    "import geemap\n",
    "import ee\n",
    "\n",
    "# Initialize the Earth Engine API\n",
    "ee.Initialize()\n",
    "\n",
    "# Load the US Census Counties dataset\n",
    "counties = ee.FeatureCollection(\"TIGER/2018/Counties\")\n",
    "\n",
    "# Filter for Knox County, Indiana\n",
    "knox_county = counties.filter(ee.Filter.And(\n",
    "    ee.Filter.eq('NAME', 'Knox'),\n",
    "    ee.Filter.eq('STATEFP', '18')\n",
    "))\n",
    "\n",
    "geo = knox_county.geometry()\n",
    "\n",
    "style = {\n",
    "    'color': 'blue',  # Outline color\n",
    "    'fillColor': '00000000',  # Transparent fill color\n",
    "    'width': 2  # Outline width\n",
    "}\n",
    "\n",
    "# Applies scaling factors\n",
    "def apply_scale_factors(image):\n",
    "    optical_bands = image.select(['B2', 'B3', 'B4', 'B8']).multiply(0.0001)\n",
    "    return image.addBands(optical_bands, None, True)\n",
    "\n",
    "# Create a Sentinel-2 ImageCollection with cloud cover less than 5%\n",
    "collection1 = ee.ImageCollection(\"COPERNICUS/S2_SR\")\\\n",
    "             .filterBounds(knox_county)\\\n",
    "             .filterMetadata(\"CLOUDY_PIXEL_PERCENTAGE\", \"less_than\", 5)\\\n",
    "             .map(apply_scale_factors)\n",
    "\n",
    "# Visualization parameters for true color\n",
    "vis = {\n",
    "    'bands': ['B4', 'B3', 'B2'],  # True color (Red, Green, Blue) combination\n",
    "    'min': 0.0,\n",
    "    'max': 0.3,\n",
    "    'gamma': 1.2,\n",
    "}\n",
    "\n",
    "# Create the time series for the months from May to August 2023 to save time\n",
    "ts1 = geemap.create_timeseries(\n",
    "    collection1,\n",
    "    start_date='2023-05-01',\n",
    "    end_date='2023-08-31',\n",
    "    region=geo,\n",
    "    bands=['B4', 'B3', 'B2'],\n",
    "    frequency='month',\n",
    "    reducer='median'\n",
    ")\n",
    "\n",
    "# Function to convert ImageCollection to a list of images\n",
    "def collection1_to_list(image_collection):\n",
    "    size = image_collection.size().getInfo()\n",
    "    return image_collection.toList(size)\n",
    "\n",
    "# Convert the ImageCollection to a list\n",
    "ts1_list = collection1_to_list(ts1)\n",
    "\n",
    "# Create a map\n",
    "map2 = geemap.Map()\n",
    "\n",
    "# Define the month names\n",
    "month_names = ['May', 'June', 'July', 'August']\n",
    "\n",
    "# Add each image in the time series to the map\n",
    "for i in range(min(ts1.size().getInfo(), len(month_names))):\n",
    "    image1 = ee.Image(ts1_list.get(i))\n",
    "    month_name = month_names[i]\n",
    "    map2.addLayer(image1, vis, f'Knox County {month_name} 2023')\n",
    "\n",
    "# Display the map\n",
    "map2.centerObject(geo, 10)\n",
    "map2.addLayer(knox_county.style(**style), {}, 'Knox County')\n",
    "map2.addLayerControl()  # This will add a layer control panel to the map\n",
    "\n",
    "# Add text\n",
    "text = \"Made by Faissal Bozi\"\n",
    "map2.add_text(text, fontsize=20, position='bottomright')\n",
    "\n",
    "map2\n",
    "\n"
   ]
  },
  {
   "cell_type": "code",
   "execution_count": 89,
   "id": "c10cbd05-bdc3-4b32-8054-39268da71c83",
   "metadata": {},
   "outputs": [
    {
     "data": {
      "text/html": [
       "\n",
       "            <style>\n",
       "                .geemap-dark {\n",
       "                    --jp-widgets-color: white;\n",
       "                    --jp-widgets-label-color: white;\n",
       "                    --jp-ui-font-color1: white;\n",
       "                    --jp-layout-color2: #454545;\n",
       "                    background-color: #383838;\n",
       "                }\n",
       "\n",
       "                .geemap-dark .jupyter-button {\n",
       "                    --jp-layout-color3: #383838;\n",
       "                }\n",
       "\n",
       "                .geemap-colab {\n",
       "                    background-color: var(--colab-primary-surface-color, white);\n",
       "                }\n",
       "\n",
       "                .geemap-colab .jupyter-button {\n",
       "                    --jp-layout-color3: var(--colab-primary-surface-color, white);\n",
       "                }\n",
       "            </style>\n",
       "            "
      ],
      "text/plain": [
       "<IPython.core.display.HTML object>"
      ]
     },
     "metadata": {},
     "output_type": "display_data"
    },
    {
     "name": "stdout",
     "output_type": "stream",
     "text": [
      "Generating URL ...\n",
      "Downloading data from https://earthengine.googleapis.com/v1/projects/earthengine-legacy/thumbnails/8bb6a41678af42866deab8e4fdf2d9be-9ee100af756bb7c5f324a4148a007796:getPixels\n",
      "Please wait ...\n",
      "Data downloaded to C:\\Users\\musao\\Desktop\\Data management using google earth engine\\Geospatial-Data-Management-course\\Sentinel2_Knox_County_May_2023.tif\n",
      "Generating URL ...\n",
      "Downloading data from https://earthengine.googleapis.com/v1/projects/earthengine-legacy/thumbnails/b311631032e4d6ac32e3ace4099a4c6b-89fd2bc71adbae4a7fdd22a6f842c7d9:getPixels\n",
      "Please wait ...\n",
      "Data downloaded to C:\\Users\\musao\\Desktop\\Data management using google earth engine\\Geospatial-Data-Management-course\\Sentinel2_Knox_County_June_2023.tif\n",
      "Generating URL ...\n",
      "Downloading data from https://earthengine.googleapis.com/v1/projects/earthengine-legacy/thumbnails/e5fcc9a01467a68bd86c825771a01e3a-ee046c193b5538cbf906fbd6b0b4de59:getPixels\n",
      "Please wait ...\n",
      "Data downloaded to C:\\Users\\musao\\Desktop\\Data management using google earth engine\\Geospatial-Data-Management-course\\Sentinel2_Knox_County_July_2023.tif\n",
      "Generating URL ...\n",
      "Downloading data from https://earthengine.googleapis.com/v1/projects/earthengine-legacy/thumbnails/b2ced26799a03c3a7b155e5c171f36d5-d6c922298c443933d3e98200b0f44e9c:getPixels\n",
      "Please wait ...\n",
      "Data downloaded to C:\\Users\\musao\\Desktop\\Data management using google earth engine\\Geospatial-Data-Management-course\\Sentinel2_Knox_County_August_2023.tif\n",
      "Images saved.\n"
     ]
    }
   ],
   "source": [
    "# Export each image in the time series\n",
    "for i in range(min(ts1.size().getInfo(), len(month_names))):\n",
    "    image1 = ee.Image(ts1_list.get(i))\n",
    "    month_name = month_names[i]\n",
    "    out_file = f'Sentinel2_Knox_County_{month_name}_2023.tif'\n",
    "    geemap.ee_export_image(image1, filename=out_file, scale=80, region=geo)\n",
    "\n",
    "print(\"Images saved.\")\n",
    "\n"
   ]
  },
  {
   "cell_type": "markdown",
   "id": "c743ae0a",
   "metadata": {},
   "source": [
    "## Question 4\n",
    "\n",
    "Create annual cloud-free NAIP imagery for the years 2010-2023 for a US county of your choice. Download the images to your computer. You can download a coarse resolution image to speed up the download process. \n",
    "\n"
   ]
  },
  {
   "cell_type": "code",
   "execution_count": 2,
   "id": "5ec47e66",
   "metadata": {},
   "outputs": [
    {
     "data": {
      "text/html": [
       "\n",
       "            <style>\n",
       "                .geemap-dark {\n",
       "                    --jp-widgets-color: white;\n",
       "                    --jp-widgets-label-color: white;\n",
       "                    --jp-ui-font-color1: white;\n",
       "                    --jp-layout-color2: #454545;\n",
       "                    background-color: #383838;\n",
       "                }\n",
       "\n",
       "                .geemap-dark .jupyter-button {\n",
       "                    --jp-layout-color3: #383838;\n",
       "                }\n",
       "\n",
       "                .geemap-colab {\n",
       "                    background-color: var(--colab-primary-surface-color, white);\n",
       "                }\n",
       "\n",
       "                .geemap-colab .jupyter-button {\n",
       "                    --jp-layout-color3: var(--colab-primary-surface-color, white);\n",
       "                }\n",
       "            </style>\n",
       "            "
      ],
      "text/plain": [
       "<IPython.core.display.HTML object>"
      ]
     },
     "metadata": {},
     "output_type": "display_data"
    },
    {
     "data": {
      "application/vnd.jupyter.widget-view+json": {
       "model_id": "55f6f4e6d0624afcabac6c261ff08be4",
       "version_major": 2,
       "version_minor": 0
      },
      "text/plain": [
       "Map(center=[38.688923758741744, -87.41827504818303], controls=(WidgetControl(options=['position', 'transparent…"
      ]
     },
     "execution_count": 2,
     "metadata": {},
     "output_type": "execute_result"
    }
   ],
   "source": [
    "import geemap\n",
    "import ee\n",
    "\n",
    "# Initialize the Earth Engine API\n",
    "ee.Initialize()\n",
    "\n",
    "# Load the US Census Counties dataset\n",
    "counties = ee.FeatureCollection(\"TIGER/2018/Counties\")\n",
    "\n",
    "# Filter for Knox County, Indiana\n",
    "knox_county = counties.filter(ee.Filter.And(\n",
    "    ee.Filter.eq('NAME', 'Knox'),\n",
    "    ee.Filter.eq('STATEFP', '18')\n",
    "))\n",
    "\n",
    "geo = knox_county.geometry()\n",
    "\n",
    "style = {\n",
    "    'color': 'blue',  # Outline color\n",
    "    'fillColor': '00000000',  # Transparent fill color\n",
    "    'width': 2  # Outline width\n",
    "}\n",
    "\n",
    "# Create a NAIP ImageCollection\n",
    "collection2 = ee.ImageCollection(\"USDA/NAIP/DOQQ\")\\\n",
    "             .filterBounds(knox_county)\\\n",
    "             .filterDate('2010-01-01', '2023-12-31')\n",
    "\n",
    "# Visualization parameters for true color\n",
    "vis = {\n",
    "    'bands': ['R', 'G', 'B'],  # True color (Red, Green, Blue) combination\n",
    "    'min': 0.0,\n",
    "    'max': 255,\n",
    "    'gamma': 1.2,\n",
    "}\n",
    "\n",
    "# Create the time series for the years from 2010 to 2023\n",
    "ts2 = geemap.create_timeseries(\n",
    "    collection2,\n",
    "    start_date='2010-01-01',\n",
    "    end_date='2023-12-31',\n",
    "    region=geo,\n",
    "    bands=['R', 'G', 'B'],\n",
    "    frequency='year',\n",
    "    reducer='median'\n",
    ")\n",
    "\n",
    "# Function to convert ImageCollection to a list of images\n",
    "def collection1_to_list(image_collection):\n",
    "    size = image_collection.size().getInfo()\n",
    "    return image_collection.toList(size)\n",
    "\n",
    "# Convert the ImageCollection to a list\n",
    "ts2_list = collection1_to_list(ts2)\n",
    "\n",
    "# Create a map\n",
    "map3 = geemap.Map()\n",
    "\n",
    "# Add each image in the time series to the map\n",
    "for i in range(ts2.size().getInfo()):\n",
    "    image2 = ee.Image(ts2_list.get(i))\n",
    "    year = 2010 + i\n",
    "    map3.addLayer(image2, vis, f'Knox County {year}')\n",
    "\n",
    "# Display the map\n",
    "map3.centerObject(geo, 10)\n",
    "map3.addLayer(knox_county.style(**style), {}, 'Knox County')\n",
    "map3.addLayerControl()  # This will add a layer control panel to the map\n",
    "\n",
    "# Add text\n",
    "text = \"Made by Faissal Bozi\"\n",
    "map3.add_text(text, fontsize=20, position='bottomright')\n",
    "\n",
    "map3\n",
    "\n",
    "\n"
   ]
  },
  {
   "cell_type": "code",
   "execution_count": null,
   "id": "d41f1894-d938-4937-a0a5-c85f76dbc8cc",
   "metadata": {},
   "outputs": [],
   "source": [
    "# Export each image in the time series\n",
    "for i in range(ts2.size().getInfo()):\n",
    "    image2 = ee.Image(ts2_list.get(i))\n",
    "    year = 2010 + i\n",
    "    out_file = f'NAIP_Knox_County_{year}.tif'\n",
    "    geemap.ee_export_image(image1, filename=out_file, scale=100, region=geo)\n",
    "\n",
    "print(\"Images saved.\")"
   ]
  },
  {
   "cell_type": "markdown",
   "id": "5c33cf8f",
   "metadata": {},
   "source": [
    "## Question 5\n",
    "\n",
    "Download a US county of your choice and save it as a shapefile or GeoJSON file. \n",
    "\n"
   ]
  },
  {
   "cell_type": "code",
   "execution_count": 14,
   "id": "a5e33021",
   "metadata": {},
   "outputs": [
    {
     "data": {
      "text/html": [
       "\n",
       "            <style>\n",
       "                .geemap-dark {\n",
       "                    --jp-widgets-color: white;\n",
       "                    --jp-widgets-label-color: white;\n",
       "                    --jp-ui-font-color1: white;\n",
       "                    --jp-layout-color2: #454545;\n",
       "                    background-color: #383838;\n",
       "                }\n",
       "\n",
       "                .geemap-dark .jupyter-button {\n",
       "                    --jp-layout-color3: #383838;\n",
       "                }\n",
       "\n",
       "                .geemap-colab {\n",
       "                    background-color: var(--colab-primary-surface-color, white);\n",
       "                }\n",
       "\n",
       "                .geemap-colab .jupyter-button {\n",
       "                    --jp-layout-color3: var(--colab-primary-surface-color, white);\n",
       "                }\n",
       "            </style>\n",
       "            "
      ],
      "text/plain": [
       "<IPython.core.display.HTML object>"
      ]
     },
     "metadata": {},
     "output_type": "display_data"
    },
    {
     "name": "stdout",
     "output_type": "stream",
     "text": [
      "Generating URL ...\n",
      "Downloading data from https://earthengine.googleapis.com/v1/projects/earthengine-legacy/tables/95e3dee37610b5db0598ef6e9b4cceee-96047610959e4b75f456f383a86a770f:getFeatures\n",
      "Please wait ...\n",
      "An error occurred while downloading. \n",
      " Retrying ...\n",
      "Generating URL ...\n",
      "Downloading data from https://earthengine.googleapis.com/v1/projects/earthengine-legacy/tables/c4b060701056b6351d02b5ecc715b1a3-a21961f61182c3b625dcbf51f94ec162:getFeatures\n",
      "Please wait ...\n",
      "Data downloaded to C:\\Users\\musao\\Desktop\\Data management using google earth engine\\Geospatial-Data-Management-course\\Knox_County.shp\n"
     ]
    },
    {
     "data": {
      "application/vnd.jupyter.widget-view+json": {
       "model_id": "f740797ff4de4ac9aebab4fdcd518b56",
       "version_major": 2,
       "version_minor": 0
      },
      "text/plain": [
       "Map(center=[0, 0], controls=(WidgetControl(options=['position', 'transparent_bg'], widget=SearchDataGUI(childr…"
      ]
     },
     "execution_count": 14,
     "metadata": {},
     "output_type": "execute_result"
    }
   ],
   "source": [
    "# Add your code here.\n",
    "import geemap\n",
    "import ee\n",
    "\n",
    "# Initialize the Earth Engine API\n",
    "ee.Initialize()\n",
    "\n",
    "# Load the US Census Counties dataset\n",
    "counties = ee.FeatureCollection(\"TIGER/2018/Counties\")\n",
    "\n",
    "# Filter for Knox County, Indiana\n",
    "knox_county = counties.filter(ee.Filter.And(\n",
    "    ee.Filter.eq('NAME', 'Knox'),\n",
    "    ee.Filter.eq('STATEFP', '18')\n",
    "))\n",
    "\n",
    "style = {\n",
    "    'color': 'blue',  # Outline color\n",
    "    'fillColor': '00000000',  # Transparent fill color\n",
    "     'fillOpacity': 0 ,\n",
    "    'width': 2  # Outline width\n",
    "}\n",
    "\n",
    "# Export Knox County geometry to a shapefile\n",
    "geemap.ee_export_vector(knox_county, filename='Knox_County.shp')\n",
    "\n",
    "# Create a map\n",
    "map4 = geemap.Map()\n",
    "\n",
    "# Add Knox County to the map\n",
    "map4.add_shp('Knox_County.shp',style=style, layer_name='Knox County')\n",
    "\n",
    "# Display the map\n",
    "map4.centerObject(knox_county)\n",
    "# Add text\n",
    "text = \"Made by Faissal Bozi\"\n",
    "map4.add_text(text, fontsize=20, position='bottomright')\n",
    "map4\n",
    "\n"
   ]
  },
  {
   "cell_type": "code",
   "execution_count": null,
   "id": "e3cef168-dd3e-4c10-9f0d-32d31462ebfb",
   "metadata": {},
   "outputs": [],
   "source": []
  }
 ],
 "metadata": {
  "kernelspec": {
   "display_name": "Python 3 (ipykernel)",
   "language": "python",
   "name": "python3"
  },
  "language_info": {
   "codemirror_mode": {
    "name": "ipython",
    "version": 3
   },
   "file_extension": ".py",
   "mimetype": "text/x-python",
   "name": "python",
   "nbconvert_exporter": "python",
   "pygments_lexer": "ipython3",
   "version": "3.11.9"
  }
 },
 "nbformat": 4,
 "nbformat_minor": 5
}
